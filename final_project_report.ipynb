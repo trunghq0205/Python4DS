{
  "nbformat": 4,
  "nbformat_minor": 0,
  "metadata": {
    "colab": {
      "provenance": [],
      "include_colab_link": true
    },
    "kernelspec": {
      "name": "python3",
      "display_name": "Python 3"
    },
    "language_info": {
      "name": "python"
    }
  },
  "cells": [
    {
      "cell_type": "markdown",
      "metadata": {
        "id": "view-in-github",
        "colab_type": "text"
      },
      "source": [
        "<a href=\"https://colab.research.google.com/github/trunghq0205/python4ds/blob/main/final_project_report.ipynb\" target=\"_parent\"><img src=\"https://colab.research.google.com/assets/colab-badge.svg\" alt=\"Open In Colab\"/></a>"
      ]
    },
    {
      "cell_type": "markdown",
      "source": [
        "----"
      ],
      "metadata": {
        "id": "l3dZkdca6W7O"
      }
    },
    {
      "cell_type": "markdown",
      "source": [
        "# Báo cáo cuối kỳ môn Python cho Khoa học Dữ liệu"
      ],
      "metadata": {
        "id": "w3ZOUfKj6oxr"
      }
    },
    {
      "cell_type": "markdown",
      "source": [
        "test commit"
      ],
      "metadata": {
        "id": "Gj-ctpiU2b89"
      }
    },
    {
      "cell_type": "code",
      "source": [],
      "metadata": {
        "id": "6J2RcjDw2dgA"
      },
      "execution_count": null,
      "outputs": []
    }
  ]
}