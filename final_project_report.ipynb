{
  "nbformat": 4,
  "nbformat_minor": 0,
  "metadata": {
    "colab": {
      "provenance": [],
      "collapsed_sections": [
        "zCGAaAEN8VSR",
        "s8pSIJJB-I88",
        "kWBiYxQ8-PuZ",
        "47lRRXji-T_A",
        "fOphculZ_EtT",
        "5Jrp4n_n_JKF",
        "nwZCRE1j_NbG"
      ],
      "include_colab_link": true
    },
    "kernelspec": {
      "name": "python3",
      "display_name": "Python 3"
    },
    "language_info": {
      "name": "python"
    }
  },
  "cells": [
    {
      "cell_type": "markdown",
      "metadata": {
        "id": "view-in-github",
        "colab_type": "text"
      },
      "source": [
        "<a href=\"https://colab.research.google.com/github/trunghq0205/python4ds/blob/main/final_project_report.ipynb\" target=\"_parent\"><img src=\"https://colab.research.google.com/assets/colab-badge.svg\" alt=\"Open In Colab\"/></a>"
      ]
    },
    {
      "cell_type": "markdown",
      "source": [
        "----"
      ],
      "metadata": {
        "id": "l3dZkdca6W7O"
      }
    },
    {
      "cell_type": "markdown",
      "source": [
        "# Báo cáo cuối kỳ môn Python cho Khoa học Dữ liệu"
      ],
      "metadata": {
        "id": "w3ZOUfKj6oxr"
      }
    },
    {
      "cell_type": "markdown",
      "source": [
        "Nhóm - Tên thành viên:\n",
        "1. Huỳnh Quang Trung - 20280108\n",
        "2. Trần Tuấn Thái - 20280082\n",
        "3. Hỏa Ngọc Tú - 20280111\n",
        "4. Hồ Ngọc Ân - 20280001\n",
        "\n",
        "Github: https://github.com/trunghq0205/python4ds"
      ],
      "metadata": {
        "id": "8za--RGG7KGM"
      }
    },
    {
      "cell_type": "markdown",
      "source": [
        "----"
      ],
      "metadata": {
        "id": "Le_soM9W7gg3"
      }
    },
    {
      "cell_type": "markdown",
      "source": [
        "## Thông tin bài nộp"
      ],
      "metadata": {
        "id": "oDki1FcZ7kJj"
      }
    },
    {
      "cell_type": "markdown",
      "source": [],
      "metadata": {
        "id": "kvH8eFMa7qwA"
      }
    },
    {
      "cell_type": "markdown",
      "source": [
        "----"
      ],
      "metadata": {
        "id": "aDbGGNYy7r9P"
      }
    },
    {
      "cell_type": "markdown",
      "source": [
        "## Mô tả bài toán và nguồn gốc của tập dữ liệu"
      ],
      "metadata": {
        "id": "ytmrzF5c7ttl"
      }
    },
    {
      "cell_type": "markdown",
      "source": [
        "Đây là bộ dữ liệu về thông tin các chuyến taxi tại New York vào 6 tháng đầu năm 2016 dựa trên dữ liệu **[2016 NYC Yellow Cab trip record data](https://cloud.google.com/bigquery/public-data)** có sẵn trên BigQuery của Google Cloud Platform. Dữ liệu gốc được phát hành bởi NYC *Taxi and Limousine Commission (TLC)* và có sẵn trên trang [NYC TLC](https://www1.nyc.gov/site/tlc/about/tlc-trip-record-data.page). Tập dữ liệu được dùng trong đồ án lần này đã được lấy mẫu (sample) và tiền xử lý để sử dụng cho cuộc thi **[New York City Taxi Trip Duration](https://www.kaggle.com/c/nyc-taxi-trip-duration/overview)** trên Kaggle vào năm 2017.\n",
        "\n",
        "Mục tiêu của cuộc thi *New York City Taxi Trip Duration* là xây dựng một mô hình dự đoán tổng thời gian đi của các chuyến taxi ở Thành phố New York dựa vào các biến như thời gian đón, tọa độ địa lý, số lượng hành khách và một số biến số khác.\n",
        "\n",
        "**Input:** Dữ liệu gồm 9 thuộc tính của một chuyến taxi (id, vendor_id, pickup_datetime, passenger_count, pickup_longitude, pickup_latitude, dropoff_longitude, dropoff_latitude, store_and_fwd_flag) \\\n",
        "**Output:** Tổng thời gian dự đoán của chuyến đó tính bằng giây."
      ],
      "metadata": {
        "id": "hFA8cJcD74T5"
      }
    },
    {
      "cell_type": "markdown",
      "source": [
        "----"
      ],
      "metadata": {
        "id": "GAPo_7OM78Ew"
      }
    },
    {
      "cell_type": "markdown",
      "source": [
        "## Cài đặt và gọi các thư viện cần thiết"
      ],
      "metadata": {
        "id": "KQRkTQr_8CI6"
      }
    },
    {
      "cell_type": "code",
      "source": [
        "#!conda install -c conda-forge folium=0.5.0 --yes\n",
        "#!pip install geopy\n",
        "# # Bỏ comment để cài đặt thư viện cần thiết cho câu 3\n",
        "#!pip install sklearn\n",
        "#!pip install xgboost\n",
        "#!pip install pickle-mixin"
      ],
      "metadata": {
        "id": "U2ZFGCsX8EPv"
      },
      "execution_count": null,
      "outputs": []
    },
    {
      "cell_type": "code",
      "source": [
        "import pandas as pd\n",
        "import numpy as np\n",
        "import matplotlib.pyplot as plt\n",
        "import geopy.distance\n",
        "import seaborn as sns\n",
        "plt.style.use('ggplot')"
      ],
      "metadata": {
        "id": "AwHQRkP_8HP0"
      },
      "execution_count": null,
      "outputs": []
    },
    {
      "cell_type": "markdown",
      "source": [
        "----"
      ],
      "metadata": {
        "id": "-rTXcjS58Jfm"
      }
    },
    {
      "cell_type": "markdown",
      "source": [
        "## Khám phá dữ liệu"
      ],
      "metadata": {
        "id": "qTB83sfY8PLG"
      }
    },
    {
      "cell_type": "markdown",
      "source": [
        "### Đọc dữ liệu từ file csv vào dataframe"
      ],
      "metadata": {
        "id": "zCGAaAEN8VSR"
      }
    },
    {
      "cell_type": "markdown",
      "source": [
        "Hai tập dữ liệu train.csv và test.csv được upload lên github nhằm mục đích có thể đọc được tập dữ liệu thông qua link raw data, giúp linh hoạt hơn trong việc chạy dược file notebook trong nhiều trường hợp khác nhau mà không phụ thuộc vào việc phảu cần có file dữ liệu."
      ],
      "metadata": {
        "id": "jcug0r2it_CL"
      }
    },
    {
      "cell_type": "code",
      "source": [
        "taxi_df = pd.read_csv('https://media.githubusercontent.com/media/trunghq0205/python4ds/main/train.csv', index_col = None)\n",
        "test = pd.read_csv('https://media.githubusercontent.com/media/trunghq0205/python4ds/main/test.csv', index_col = None)\n",
        "taxi_df.head()"
      ],
      "metadata": {
        "colab": {
          "base_uri": "https://localhost:8080/"
        },
        "id": "GVfdU6Vi8YnK",
        "outputId": "58243e1c-2033-459d-bade-61445a49155f"
      },
      "execution_count": null,
      "outputs": [
        {
          "output_type": "execute_result",
          "data": {
            "text/plain": [
              "          id  vendor_id      pickup_datetime     dropoff_datetime  \\\n",
              "0  id2875421          2  2016-03-14 17:24:55  2016-03-14 17:32:30   \n",
              "1  id2377394          1  2016-06-12 00:43:35  2016-06-12 00:54:38   \n",
              "2  id3858529          2  2016-01-19 11:35:24  2016-01-19 12:10:48   \n",
              "3  id3504673          2  2016-04-06 19:32:31  2016-04-06 19:39:40   \n",
              "4  id2181028          2  2016-03-26 13:30:55  2016-03-26 13:38:10   \n",
              "\n",
              "   passenger_count  pickup_longitude  pickup_latitude  dropoff_longitude  \\\n",
              "0                1        -73.982155        40.767937         -73.964630   \n",
              "1                1        -73.980415        40.738564         -73.999481   \n",
              "2                1        -73.979027        40.763939         -74.005333   \n",
              "3                1        -74.010040        40.719971         -74.012268   \n",
              "4                1        -73.973053        40.793209         -73.972923   \n",
              "\n",
              "   dropoff_latitude store_and_fwd_flag  trip_duration  \n",
              "0         40.765602                  N            455  \n",
              "1         40.731152                  N            663  \n",
              "2         40.710087                  N           2124  \n",
              "3         40.706718                  N            429  \n",
              "4         40.782520                  N            435  "
            ],
            "text/html": [
              "\n",
              "  <div id=\"df-7c442894-623e-4da0-8b19-35bf0594f213\">\n",
              "    <div class=\"colab-df-container\">\n",
              "      <div>\n",
              "<style scoped>\n",
              "    .dataframe tbody tr th:only-of-type {\n",
              "        vertical-align: middle;\n",
              "    }\n",
              "\n",
              "    .dataframe tbody tr th {\n",
              "        vertical-align: top;\n",
              "    }\n",
              "\n",
              "    .dataframe thead th {\n",
              "        text-align: right;\n",
              "    }\n",
              "</style>\n",
              "<table border=\"1\" class=\"dataframe\">\n",
              "  <thead>\n",
              "    <tr style=\"text-align: right;\">\n",
              "      <th></th>\n",
              "      <th>id</th>\n",
              "      <th>vendor_id</th>\n",
              "      <th>pickup_datetime</th>\n",
              "      <th>dropoff_datetime</th>\n",
              "      <th>passenger_count</th>\n",
              "      <th>pickup_longitude</th>\n",
              "      <th>pickup_latitude</th>\n",
              "      <th>dropoff_longitude</th>\n",
              "      <th>dropoff_latitude</th>\n",
              "      <th>store_and_fwd_flag</th>\n",
              "      <th>trip_duration</th>\n",
              "    </tr>\n",
              "  </thead>\n",
              "  <tbody>\n",
              "    <tr>\n",
              "      <th>0</th>\n",
              "      <td>id2875421</td>\n",
              "      <td>2</td>\n",
              "      <td>2016-03-14 17:24:55</td>\n",
              "      <td>2016-03-14 17:32:30</td>\n",
              "      <td>1</td>\n",
              "      <td>-73.982155</td>\n",
              "      <td>40.767937</td>\n",
              "      <td>-73.964630</td>\n",
              "      <td>40.765602</td>\n",
              "      <td>N</td>\n",
              "      <td>455</td>\n",
              "    </tr>\n",
              "    <tr>\n",
              "      <th>1</th>\n",
              "      <td>id2377394</td>\n",
              "      <td>1</td>\n",
              "      <td>2016-06-12 00:43:35</td>\n",
              "      <td>2016-06-12 00:54:38</td>\n",
              "      <td>1</td>\n",
              "      <td>-73.980415</td>\n",
              "      <td>40.738564</td>\n",
              "      <td>-73.999481</td>\n",
              "      <td>40.731152</td>\n",
              "      <td>N</td>\n",
              "      <td>663</td>\n",
              "    </tr>\n",
              "    <tr>\n",
              "      <th>2</th>\n",
              "      <td>id3858529</td>\n",
              "      <td>2</td>\n",
              "      <td>2016-01-19 11:35:24</td>\n",
              "      <td>2016-01-19 12:10:48</td>\n",
              "      <td>1</td>\n",
              "      <td>-73.979027</td>\n",
              "      <td>40.763939</td>\n",
              "      <td>-74.005333</td>\n",
              "      <td>40.710087</td>\n",
              "      <td>N</td>\n",
              "      <td>2124</td>\n",
              "    </tr>\n",
              "    <tr>\n",
              "      <th>3</th>\n",
              "      <td>id3504673</td>\n",
              "      <td>2</td>\n",
              "      <td>2016-04-06 19:32:31</td>\n",
              "      <td>2016-04-06 19:39:40</td>\n",
              "      <td>1</td>\n",
              "      <td>-74.010040</td>\n",
              "      <td>40.719971</td>\n",
              "      <td>-74.012268</td>\n",
              "      <td>40.706718</td>\n",
              "      <td>N</td>\n",
              "      <td>429</td>\n",
              "    </tr>\n",
              "    <tr>\n",
              "      <th>4</th>\n",
              "      <td>id2181028</td>\n",
              "      <td>2</td>\n",
              "      <td>2016-03-26 13:30:55</td>\n",
              "      <td>2016-03-26 13:38:10</td>\n",
              "      <td>1</td>\n",
              "      <td>-73.973053</td>\n",
              "      <td>40.793209</td>\n",
              "      <td>-73.972923</td>\n",
              "      <td>40.782520</td>\n",
              "      <td>N</td>\n",
              "      <td>435</td>\n",
              "    </tr>\n",
              "  </tbody>\n",
              "</table>\n",
              "</div>\n",
              "      <button class=\"colab-df-convert\" onclick=\"convertToInteractive('df-7c442894-623e-4da0-8b19-35bf0594f213')\"\n",
              "              title=\"Convert this dataframe to an interactive table.\"\n",
              "              style=\"display:none;\">\n",
              "        \n",
              "  <svg xmlns=\"http://www.w3.org/2000/svg\" height=\"24px\"viewBox=\"0 0 24 24\"\n",
              "       width=\"24px\">\n",
              "    <path d=\"M0 0h24v24H0V0z\" fill=\"none\"/>\n",
              "    <path d=\"M18.56 5.44l.94 2.06.94-2.06 2.06-.94-2.06-.94-.94-2.06-.94 2.06-2.06.94zm-11 1L8.5 8.5l.94-2.06 2.06-.94-2.06-.94L8.5 2.5l-.94 2.06-2.06.94zm10 10l.94 2.06.94-2.06 2.06-.94-2.06-.94-.94-2.06-.94 2.06-2.06.94z\"/><path d=\"M17.41 7.96l-1.37-1.37c-.4-.4-.92-.59-1.43-.59-.52 0-1.04.2-1.43.59L10.3 9.45l-7.72 7.72c-.78.78-.78 2.05 0 2.83L4 21.41c.39.39.9.59 1.41.59.51 0 1.02-.2 1.41-.59l7.78-7.78 2.81-2.81c.8-.78.8-2.07 0-2.86zM5.41 20L4 18.59l7.72-7.72 1.47 1.35L5.41 20z\"/>\n",
              "  </svg>\n",
              "      </button>\n",
              "      \n",
              "  <style>\n",
              "    .colab-df-container {\n",
              "      display:flex;\n",
              "      flex-wrap:wrap;\n",
              "      gap: 12px;\n",
              "    }\n",
              "\n",
              "    .colab-df-convert {\n",
              "      background-color: #E8F0FE;\n",
              "      border: none;\n",
              "      border-radius: 50%;\n",
              "      cursor: pointer;\n",
              "      display: none;\n",
              "      fill: #1967D2;\n",
              "      height: 32px;\n",
              "      padding: 0 0 0 0;\n",
              "      width: 32px;\n",
              "    }\n",
              "\n",
              "    .colab-df-convert:hover {\n",
              "      background-color: #E2EBFA;\n",
              "      box-shadow: 0px 1px 2px rgba(60, 64, 67, 0.3), 0px 1px 3px 1px rgba(60, 64, 67, 0.15);\n",
              "      fill: #174EA6;\n",
              "    }\n",
              "\n",
              "    [theme=dark] .colab-df-convert {\n",
              "      background-color: #3B4455;\n",
              "      fill: #D2E3FC;\n",
              "    }\n",
              "\n",
              "    [theme=dark] .colab-df-convert:hover {\n",
              "      background-color: #434B5C;\n",
              "      box-shadow: 0px 1px 3px 1px rgba(0, 0, 0, 0.15);\n",
              "      filter: drop-shadow(0px 1px 2px rgba(0, 0, 0, 0.3));\n",
              "      fill: #FFFFFF;\n",
              "    }\n",
              "  </style>\n",
              "\n",
              "      <script>\n",
              "        const buttonEl =\n",
              "          document.querySelector('#df-7c442894-623e-4da0-8b19-35bf0594f213 button.colab-df-convert');\n",
              "        buttonEl.style.display =\n",
              "          google.colab.kernel.accessAllowed ? 'block' : 'none';\n",
              "\n",
              "        async function convertToInteractive(key) {\n",
              "          const element = document.querySelector('#df-7c442894-623e-4da0-8b19-35bf0594f213');\n",
              "          const dataTable =\n",
              "            await google.colab.kernel.invokeFunction('convertToInteractive',\n",
              "                                                     [key], {});\n",
              "          if (!dataTable) return;\n",
              "\n",
              "          const docLinkHtml = 'Like what you see? Visit the ' +\n",
              "            '<a target=\"_blank\" href=https://colab.research.google.com/notebooks/data_table.ipynb>data table notebook</a>'\n",
              "            + ' to learn more about interactive tables.';\n",
              "          element.innerHTML = '';\n",
              "          dataTable['output_type'] = 'display_data';\n",
              "          await google.colab.output.renderOutput(dataTable, element);\n",
              "          const docLink = document.createElement('div');\n",
              "          docLink.innerHTML = docLinkHtml;\n",
              "          element.appendChild(docLink);\n",
              "        }\n",
              "      </script>\n",
              "    </div>\n",
              "  </div>\n",
              "  "
            ]
          },
          "metadata": {},
          "execution_count": 5
        }
      ]
    },
    {
      "cell_type": "markdown",
      "source": [
        "### Dữ liệu gồm có bao nhiêu dòng và bao nhiêu cột?"
      ],
      "metadata": {
        "id": "SZaZ1NlM9_fh"
      }
    },
    {
      "cell_type": "code",
      "source": [
        "num_rows = taxi_df.shape[0]\n",
        "num_cols = taxi_df.shape[1]\n",
        "print(f'Tập dữ liệu train bao gồm {num_rows} dòng và {num_cols} cột.')"
      ],
      "metadata": {
        "colab": {
          "base_uri": "https://localhost:8080/"
        },
        "id": "ZtNGPsHc-CS2",
        "outputId": "adaca245-5ab6-438a-e752-35b360076e43"
      },
      "execution_count": null,
      "outputs": [
        {
          "output_type": "stream",
          "name": "stdout",
          "text": [
            "Tập dữ liệu train bao gồm 1458644 dòng và 11 cột.\n"
          ]
        }
      ]
    },
    {
      "cell_type": "markdown",
      "source": [
        "Trong đó, mỗi dòng của tập dữ liệu là một bản ghi của một chuyến taxi theo 11 thuộc tính với các ý nghĩa khác nhau sẽ được trình bày chi tiết trong phần mô tả phía dưới."
      ],
      "metadata": {
        "id": "2jx7W2X4-FES"
      }
    },
    {
      "cell_type": "markdown",
      "source": [
        "### Dữ liệu có các dòng bị lặp không?"
      ],
      "metadata": {
        "id": "s8pSIJJB-I88"
      }
    },
    {
      "cell_type": "code",
      "source": [
        "taxi_df.duplicated().unique()"
      ],
      "metadata": {
        "colab": {
          "base_uri": "https://localhost:8080/"
        },
        "id": "A5uK0DO7-Kcc",
        "outputId": "5206d161-035d-4bbe-e3fb-1bb981d8d316"
      },
      "execution_count": null,
      "outputs": [
        {
          "output_type": "execute_result",
          "data": {
            "text/plain": [
              "array([False])"
            ]
          },
          "metadata": {},
          "execution_count": 7
        }
      ]
    },
    {
      "cell_type": "markdown",
      "source": [
        "Có lẽ tập dữ liệu đã được ban tổ chức tiền xử lý trước để dùng trong cuộc thi nen trong tập dữ liệu của chúng ta không có các dòng dữ liệu bị trùng lặp với nhau."
      ],
      "metadata": {
        "id": "Od7mQ7yV-MNP"
      }
    },
    {
      "cell_type": "markdown",
      "source": [
        "### Mô tả ý nghĩa của các thuộc tính."
      ],
      "metadata": {
        "id": "kWBiYxQ8-PuZ"
      }
    },
    {
      "cell_type": "markdown",
      "source": [
        "Tập dữ liệu test.csv đã xử lý gồm 11 cột, cột cuối cùng (trip_duration) là giá trị cần được dự đoán: \\\n",
        "**id** - một mã định danh duy nhất cho mỗi chuyến đi \\\n",
        "**vendor_id** - mã cho biết nhà cung cấp được liên kết với hồ sơ chuyến đi (vì thông tin không được thu thập và cung cấp bởi TLC mà được cung cấp bởi 2 nhà cung cấp khác nhau được đánh số là 1 và 2) \\\n",
        "**pickup_datetime** - Ngày và giờ khi đồng hồ của taxi bắt đầu tính số mét \\\n",
        "**dropoff_datetime** - ngày và giờ khi kết thúc tính số mét \\\n",
        "**passenger_count** - số hành khách trên phương tiện (tài xế nhập thông tin này) \\\n",
        "**pickup_longitude** - kinh độ nơi bắt đầu tính số kilomet \\\n",
        "**pickup_latitude** - vĩ độ nơi bắt đầu tính số mét \\\n",
        "**dropoff_longitude** - kinh độ nơi kết thúc tính số kilomet \\\n",
        "**dropoff_latitude** - vĩ độ nơi kết thúc tính số mét \\\n",
        "**store_and_fwd_flag** - đánh dấu 1 bản ghi có được ghi lại trong bộ nhớ của phương tiện trước khi được gửi đến cho nhà cung cấp không (điều này xảy ra vì phương tiện không có kết nối đến máy chủ khi di chuyển) \\\n",
        "**trip_duration** - thời gian của chuyến tính bằng giây"
      ],
      "metadata": {
        "id": "441vdpsH-Qj5"
      }
    },
    {
      "cell_type": "markdown",
      "source": [
        "### Các thuộc tính mang kiểu dữ liệu gì?"
      ],
      "metadata": {
        "id": "47lRRXji-T_A"
      }
    },
    {
      "cell_type": "code",
      "source": [
        "taxi_df.info()"
      ],
      "metadata": {
        "colab": {
          "base_uri": "https://localhost:8080/"
        },
        "id": "WAudsUM_-WE0",
        "outputId": "50b1cd13-d2ef-4207-94b1-114c5c886bef"
      },
      "execution_count": null,
      "outputs": [
        {
          "output_type": "stream",
          "name": "stdout",
          "text": [
            "<class 'pandas.core.frame.DataFrame'>\n",
            "RangeIndex: 1458644 entries, 0 to 1458643\n",
            "Data columns (total 11 columns):\n",
            " #   Column              Non-Null Count    Dtype  \n",
            "---  ------              --------------    -----  \n",
            " 0   id                  1458644 non-null  object \n",
            " 1   vendor_id           1458644 non-null  int64  \n",
            " 2   pickup_datetime     1458644 non-null  object \n",
            " 3   dropoff_datetime    1458644 non-null  object \n",
            " 4   passenger_count     1458644 non-null  int64  \n",
            " 5   pickup_longitude    1458644 non-null  float64\n",
            " 6   pickup_latitude     1458644 non-null  float64\n",
            " 7   dropoff_longitude   1458644 non-null  float64\n",
            " 8   dropoff_latitude    1458644 non-null  float64\n",
            " 9   store_and_fwd_flag  1458644 non-null  object \n",
            " 10  trip_duration       1458644 non-null  int64  \n",
            "dtypes: float64(4), int64(3), object(4)\n",
            "memory usage: 122.4+ MB\n"
          ]
        }
      ]
    },
    {
      "cell_type": "markdown",
      "source": [
        "**Nhận xét**: Ở đây, có 4 thuộc tính mang kiểu dữ liệu object là id, pickup_datetime, dropoff_datetime và store_and_fwd_flag. Ta tiếp tục tiến hành xem các kiểu dữ liệu có trong các thuộc tính này."
      ],
      "metadata": {
        "id": "TmAD2qWd-aA9"
      }
    },
    {
      "cell_type": "markdown",
      "source": [
        "Ta sẽ tiến hàn viết một hàm để xem từng đối tượng trong các cột trên sẽ mang kiểu dữ liệu gì?"
      ],
      "metadata": {
        "id": "LIGGBdwk-yh-"
      }
    },
    {
      "cell_type": "code",
      "source": [
        "def open_object_dtype(s):\n",
        "    dtypes = set()\n",
        "    dtypes.update((s.apply(lambda temp: type(temp))))\n",
        "    return dtypes"
      ],
      "metadata": {
        "id": "HGyC5vGI-rGr"
      },
      "execution_count": null,
      "outputs": []
    },
    {
      "cell_type": "code",
      "source": [
        "print(open_object_dtype(taxi_df['id']))\n",
        "print(open_object_dtype(taxi_df['pickup_datetime']))\n",
        "print(open_object_dtype(taxi_df['dropoff_datetime']))\n",
        "print(open_object_dtype(taxi_df['store_and_fwd_flag']))"
      ],
      "metadata": {
        "colab": {
          "base_uri": "https://localhost:8080/"
        },
        "id": "EZI1gX0Y-rPD",
        "outputId": "3213d2b9-b922-4cc5-8143-ead51df51072"
      },
      "execution_count": null,
      "outputs": [
        {
          "output_type": "stream",
          "name": "stdout",
          "text": [
            "{<class 'str'>}\n",
            "{<class 'str'>}\n",
            "{<class 'str'>}\n",
            "{<class 'str'>}\n"
          ]
        }
      ]
    },
    {
      "cell_type": "markdown",
      "source": [
        "Tất các các phần tử tại các thuộc tính này đều mang kiểu dữ liệu là string. Để tiếp tục bài toán, tại đây ta có thể đưa ra các hướng giải quyết như sau:\n",
        "- Đối với **id**: Đây đơn giản chỉ là một mã định danh cho mỗi chuyến taxi nên ta có thể giữ nguyên kiểu dữ lieuj của nó là string.\n",
        "- Đối với **pickup_datetime** và **dropoff_datetime**: Ta sẽ chuyển chúng sang kiểu dữ liệu date_time để phù hợp với ngữ cảnh dữ liệu mà nó lưu trữ\n",
        "- Đối với **store_and_fwd_flag**: Đây là cột mang ý nghĩa phân loại và đánh dấu, ta sẽ chuyển nó sang kiểu bool."
      ],
      "metadata": {
        "id": "gMy0QGmv--xE"
      }
    },
    {
      "cell_type": "markdown",
      "source": [
        "## Tiền xử lý dữ liệu"
      ],
      "metadata": {
        "id": "GiYLgC5s_BHn"
      }
    },
    {
      "cell_type": "markdown",
      "source": [
        "Dựa vào các quyết định ở phía trên, đầu tiên ta sẽ:\n",
        "1. Chuyển **pickup_datetime** và **dropoff_datetime** về kiểu date_time\n",
        "2. Chuyển **store_and_fwd_flag** về kiểu bool\n",
        "3. Chuyển cột **id** sang kiểu dữ liệu str"
      ],
      "metadata": {
        "id": "O6pj-N0o_CRa"
      }
    },
    {
      "cell_type": "markdown",
      "source": [
        "### Chuyển cột **pickup_datetime** và **dropoff_datetime** sang datetime"
      ],
      "metadata": {
        "id": "fOphculZ_EtT"
      }
    },
    {
      "cell_type": "code",
      "source": [
        "taxi_df['pickup_datetime'] = pd.to_datetime(taxi_df['pickup_datetime'], format='%Y-%m-%d %H:%M:%S')\n",
        "taxi_df['dropoff_datetime'] = pd.to_datetime(taxi_df['dropoff_datetime'], format='%Y-%m-%d %H:%M:%S')"
      ],
      "metadata": {
        "id": "Ha9uHzDM_HIb"
      },
      "execution_count": null,
      "outputs": []
    },
    {
      "cell_type": "markdown",
      "source": [
        "### Chuyển cột **store_and_fwd_flag** sang kiểu bool"
      ],
      "metadata": {
        "id": "5Jrp4n_n_JKF"
      }
    },
    {
      "cell_type": "code",
      "source": [
        "taxi_df['store_and_fwd_flag'] = taxi_df['store_and_fwd_flag'].apply(lambda temp: False if temp == 'N' else True)"
      ],
      "metadata": {
        "id": "JRlNtw45_LcQ"
      },
      "execution_count": null,
      "outputs": []
    },
    {
      "cell_type": "markdown",
      "source": [
        "### Chuyển cột **id** sang kiểu dữ liệu str"
      ],
      "metadata": {
        "id": "nwZCRE1j_NbG"
      }
    },
    {
      "cell_type": "code",
      "source": [
        "taxi_df['vendor_id'] = taxi_df['vendor_id'].astype(str)"
      ],
      "metadata": {
        "id": "USz9MWSS_QPR"
      },
      "execution_count": null,
      "outputs": []
    },
    {
      "cell_type": "markdown",
      "source": [
        "Ta xem lại kiểu dữ liệu của các cột sau khi được xử lý"
      ],
      "metadata": {
        "id": "2W4Ifhml_SOI"
      }
    },
    {
      "cell_type": "code",
      "source": [
        "taxi_df.info()"
      ],
      "metadata": {
        "colab": {
          "base_uri": "https://localhost:8080/"
        },
        "id": "Z2qNlu6G_ZYg",
        "outputId": "ccbab453-62ae-4d2a-e9e5-5759212a57bc"
      },
      "execution_count": null,
      "outputs": [
        {
          "output_type": "stream",
          "name": "stdout",
          "text": [
            "<class 'pandas.core.frame.DataFrame'>\n",
            "RangeIndex: 1458644 entries, 0 to 1458643\n",
            "Data columns (total 11 columns):\n",
            " #   Column              Non-Null Count    Dtype         \n",
            "---  ------              --------------    -----         \n",
            " 0   id                  1458644 non-null  object        \n",
            " 1   vendor_id           1458644 non-null  object        \n",
            " 2   pickup_datetime     1458644 non-null  datetime64[ns]\n",
            " 3   dropoff_datetime    1458644 non-null  datetime64[ns]\n",
            " 4   passenger_count     1458644 non-null  int64         \n",
            " 5   pickup_longitude    1458644 non-null  float64       \n",
            " 6   pickup_latitude     1458644 non-null  float64       \n",
            " 7   dropoff_longitude   1458644 non-null  float64       \n",
            " 8   dropoff_latitude    1458644 non-null  float64       \n",
            " 9   store_and_fwd_flag  1458644 non-null  bool          \n",
            " 10  trip_duration       1458644 non-null  int64         \n",
            "dtypes: bool(1), datetime64[ns](2), float64(4), int64(2), object(2)\n",
            "memory usage: 112.7+ MB\n"
          ]
        }
      ]
    },
    {
      "cell_type": "markdown",
      "source": [
        "### Thêm cột distance vào tập dữ liệu"
      ],
      "metadata": {
        "id": "96JSfHBg_hVv"
      }
    },
    {
      "cell_type": "markdown",
      "source": [
        "Dựa vào tọa độ điểm đón và trả khách được cung cấp trong tập dữ liệu, ta sẽ tiến hành tính khoảng cách di chuyển của chuyến xe dựa trên khoảng cách euclid bằng cách sử dụng thư viện bổ trợ là geopy. Khoảng cách tính được ở đơn vị km"
      ],
      "metadata": {
        "id": "KP-dlzVM_jFs"
      }
    },
    {
      "cell_type": "code",
      "source": [
        "# Define hàm tính khoảng cách chuyến đi\n",
        "def get_distance(trip):\n",
        "    pickup_coord = (trip['pickup_latitude'], trip['pickup_longitude'])\n",
        "    dropoff_coord = (trip['dropoff_latitude'], trip['dropoff_longitude'])\n",
        "    return geopy.distance.distance(pickup_coord, dropoff_coord).km"
      ],
      "metadata": {
        "id": "utQnOso8_kEa"
      },
      "execution_count": null,
      "outputs": []
    },
    {
      "cell_type": "code",
      "source": [
        "#UNCOMMENT TO TUN CODE\n",
        "# Bỏ dấu comment để chạy code, ở đây để tiết kiệm thời gian nhóm đã chạy trước và sẽ lấy kết quả có sẵn \n",
        "# để thực hiện các bước tiếp theo.\n",
        "#distances = taxi_df.apply(get_distance, axis=1)\n",
        "#distances.to_csv('distance.csv', index=False)"
      ],
      "metadata": {
        "id": "O1VXZqZB_mJb"
      },
      "execution_count": null,
      "outputs": []
    },
    {
      "cell_type": "code",
      "source": [
        "taxi_df['distance'] = pd.read_csv('https://media.githubusercontent.com/media/trunghq0205/python4ds/main/distance.csv')"
      ],
      "metadata": {
        "id": "bdvl4hJM_prN"
      },
      "execution_count": null,
      "outputs": []
    },
    {
      "cell_type": "code",
      "source": [
        "taxi_df.head()"
      ],
      "metadata": {
        "colab": {
          "base_uri": "https://localhost:8080/",
          "height": 357
        },
        "id": "1_S6dWWkAJaq",
        "outputId": "01ee8183-8058-4ad4-8264-93944505ff32"
      },
      "execution_count": null,
      "outputs": [
        {
          "output_type": "execute_result",
          "data": {
            "text/plain": [
              "          id vendor_id     pickup_datetime    dropoff_datetime  \\\n",
              "0  id2875421         2 2016-03-14 17:24:55 2016-03-14 17:32:30   \n",
              "1  id2377394         1 2016-06-12 00:43:35 2016-06-12 00:54:38   \n",
              "2  id3858529         2 2016-01-19 11:35:24 2016-01-19 12:10:48   \n",
              "3  id3504673         2 2016-04-06 19:32:31 2016-04-06 19:39:40   \n",
              "4  id2181028         2 2016-03-26 13:30:55 2016-03-26 13:38:10   \n",
              "\n",
              "   passenger_count  pickup_longitude  pickup_latitude  dropoff_longitude  \\\n",
              "0                1        -73.982155        40.767937         -73.964630   \n",
              "1                1        -73.980415        40.738564         -73.999481   \n",
              "2                1        -73.979027        40.763939         -74.005333   \n",
              "3                1        -74.010040        40.719971         -74.012268   \n",
              "4                1        -73.973053        40.793209         -73.972923   \n",
              "\n",
              "   dropoff_latitude  store_and_fwd_flag  trip_duration  distance  \n",
              "0         40.765602               False            455  1.502172  \n",
              "1         40.731152               False            663  1.808660  \n",
              "2         40.710087               False           2124  6.379687  \n",
              "3         40.706718               False            429  1.483632  \n",
              "4         40.782520               False            435  1.187038  "
            ],
            "text/html": [
              "\n",
              "  <div id=\"df-80140d94-6d3c-41ea-9699-183e7686c053\">\n",
              "    <div class=\"colab-df-container\">\n",
              "      <div>\n",
              "<style scoped>\n",
              "    .dataframe tbody tr th:only-of-type {\n",
              "        vertical-align: middle;\n",
              "    }\n",
              "\n",
              "    .dataframe tbody tr th {\n",
              "        vertical-align: top;\n",
              "    }\n",
              "\n",
              "    .dataframe thead th {\n",
              "        text-align: right;\n",
              "    }\n",
              "</style>\n",
              "<table border=\"1\" class=\"dataframe\">\n",
              "  <thead>\n",
              "    <tr style=\"text-align: right;\">\n",
              "      <th></th>\n",
              "      <th>id</th>\n",
              "      <th>vendor_id</th>\n",
              "      <th>pickup_datetime</th>\n",
              "      <th>dropoff_datetime</th>\n",
              "      <th>passenger_count</th>\n",
              "      <th>pickup_longitude</th>\n",
              "      <th>pickup_latitude</th>\n",
              "      <th>dropoff_longitude</th>\n",
              "      <th>dropoff_latitude</th>\n",
              "      <th>store_and_fwd_flag</th>\n",
              "      <th>trip_duration</th>\n",
              "      <th>distance</th>\n",
              "    </tr>\n",
              "  </thead>\n",
              "  <tbody>\n",
              "    <tr>\n",
              "      <th>0</th>\n",
              "      <td>id2875421</td>\n",
              "      <td>2</td>\n",
              "      <td>2016-03-14 17:24:55</td>\n",
              "      <td>2016-03-14 17:32:30</td>\n",
              "      <td>1</td>\n",
              "      <td>-73.982155</td>\n",
              "      <td>40.767937</td>\n",
              "      <td>-73.964630</td>\n",
              "      <td>40.765602</td>\n",
              "      <td>False</td>\n",
              "      <td>455</td>\n",
              "      <td>1.502172</td>\n",
              "    </tr>\n",
              "    <tr>\n",
              "      <th>1</th>\n",
              "      <td>id2377394</td>\n",
              "      <td>1</td>\n",
              "      <td>2016-06-12 00:43:35</td>\n",
              "      <td>2016-06-12 00:54:38</td>\n",
              "      <td>1</td>\n",
              "      <td>-73.980415</td>\n",
              "      <td>40.738564</td>\n",
              "      <td>-73.999481</td>\n",
              "      <td>40.731152</td>\n",
              "      <td>False</td>\n",
              "      <td>663</td>\n",
              "      <td>1.808660</td>\n",
              "    </tr>\n",
              "    <tr>\n",
              "      <th>2</th>\n",
              "      <td>id3858529</td>\n",
              "      <td>2</td>\n",
              "      <td>2016-01-19 11:35:24</td>\n",
              "      <td>2016-01-19 12:10:48</td>\n",
              "      <td>1</td>\n",
              "      <td>-73.979027</td>\n",
              "      <td>40.763939</td>\n",
              "      <td>-74.005333</td>\n",
              "      <td>40.710087</td>\n",
              "      <td>False</td>\n",
              "      <td>2124</td>\n",
              "      <td>6.379687</td>\n",
              "    </tr>\n",
              "    <tr>\n",
              "      <th>3</th>\n",
              "      <td>id3504673</td>\n",
              "      <td>2</td>\n",
              "      <td>2016-04-06 19:32:31</td>\n",
              "      <td>2016-04-06 19:39:40</td>\n",
              "      <td>1</td>\n",
              "      <td>-74.010040</td>\n",
              "      <td>40.719971</td>\n",
              "      <td>-74.012268</td>\n",
              "      <td>40.706718</td>\n",
              "      <td>False</td>\n",
              "      <td>429</td>\n",
              "      <td>1.483632</td>\n",
              "    </tr>\n",
              "    <tr>\n",
              "      <th>4</th>\n",
              "      <td>id2181028</td>\n",
              "      <td>2</td>\n",
              "      <td>2016-03-26 13:30:55</td>\n",
              "      <td>2016-03-26 13:38:10</td>\n",
              "      <td>1</td>\n",
              "      <td>-73.973053</td>\n",
              "      <td>40.793209</td>\n",
              "      <td>-73.972923</td>\n",
              "      <td>40.782520</td>\n",
              "      <td>False</td>\n",
              "      <td>435</td>\n",
              "      <td>1.187038</td>\n",
              "    </tr>\n",
              "  </tbody>\n",
              "</table>\n",
              "</div>\n",
              "      <button class=\"colab-df-convert\" onclick=\"convertToInteractive('df-80140d94-6d3c-41ea-9699-183e7686c053')\"\n",
              "              title=\"Convert this dataframe to an interactive table.\"\n",
              "              style=\"display:none;\">\n",
              "        \n",
              "  <svg xmlns=\"http://www.w3.org/2000/svg\" height=\"24px\"viewBox=\"0 0 24 24\"\n",
              "       width=\"24px\">\n",
              "    <path d=\"M0 0h24v24H0V0z\" fill=\"none\"/>\n",
              "    <path d=\"M18.56 5.44l.94 2.06.94-2.06 2.06-.94-2.06-.94-.94-2.06-.94 2.06-2.06.94zm-11 1L8.5 8.5l.94-2.06 2.06-.94-2.06-.94L8.5 2.5l-.94 2.06-2.06.94zm10 10l.94 2.06.94-2.06 2.06-.94-2.06-.94-.94-2.06-.94 2.06-2.06.94z\"/><path d=\"M17.41 7.96l-1.37-1.37c-.4-.4-.92-.59-1.43-.59-.52 0-1.04.2-1.43.59L10.3 9.45l-7.72 7.72c-.78.78-.78 2.05 0 2.83L4 21.41c.39.39.9.59 1.41.59.51 0 1.02-.2 1.41-.59l7.78-7.78 2.81-2.81c.8-.78.8-2.07 0-2.86zM5.41 20L4 18.59l7.72-7.72 1.47 1.35L5.41 20z\"/>\n",
              "  </svg>\n",
              "      </button>\n",
              "      \n",
              "  <style>\n",
              "    .colab-df-container {\n",
              "      display:flex;\n",
              "      flex-wrap:wrap;\n",
              "      gap: 12px;\n",
              "    }\n",
              "\n",
              "    .colab-df-convert {\n",
              "      background-color: #E8F0FE;\n",
              "      border: none;\n",
              "      border-radius: 50%;\n",
              "      cursor: pointer;\n",
              "      display: none;\n",
              "      fill: #1967D2;\n",
              "      height: 32px;\n",
              "      padding: 0 0 0 0;\n",
              "      width: 32px;\n",
              "    }\n",
              "\n",
              "    .colab-df-convert:hover {\n",
              "      background-color: #E2EBFA;\n",
              "      box-shadow: 0px 1px 2px rgba(60, 64, 67, 0.3), 0px 1px 3px 1px rgba(60, 64, 67, 0.15);\n",
              "      fill: #174EA6;\n",
              "    }\n",
              "\n",
              "    [theme=dark] .colab-df-convert {\n",
              "      background-color: #3B4455;\n",
              "      fill: #D2E3FC;\n",
              "    }\n",
              "\n",
              "    [theme=dark] .colab-df-convert:hover {\n",
              "      background-color: #434B5C;\n",
              "      box-shadow: 0px 1px 3px 1px rgba(0, 0, 0, 0.15);\n",
              "      filter: drop-shadow(0px 1px 2px rgba(0, 0, 0, 0.3));\n",
              "      fill: #FFFFFF;\n",
              "    }\n",
              "  </style>\n",
              "\n",
              "      <script>\n",
              "        const buttonEl =\n",
              "          document.querySelector('#df-80140d94-6d3c-41ea-9699-183e7686c053 button.colab-df-convert');\n",
              "        buttonEl.style.display =\n",
              "          google.colab.kernel.accessAllowed ? 'block' : 'none';\n",
              "\n",
              "        async function convertToInteractive(key) {\n",
              "          const element = document.querySelector('#df-80140d94-6d3c-41ea-9699-183e7686c053');\n",
              "          const dataTable =\n",
              "            await google.colab.kernel.invokeFunction('convertToInteractive',\n",
              "                                                     [key], {});\n",
              "          if (!dataTable) return;\n",
              "\n",
              "          const docLinkHtml = 'Like what you see? Visit the ' +\n",
              "            '<a target=\"_blank\" href=https://colab.research.google.com/notebooks/data_table.ipynb>data table notebook</a>'\n",
              "            + ' to learn more about interactive tables.';\n",
              "          element.innerHTML = '';\n",
              "          dataTable['output_type'] = 'display_data';\n",
              "          await google.colab.output.renderOutput(dataTable, element);\n",
              "          const docLink = document.createElement('div');\n",
              "          docLink.innerHTML = docLinkHtml;\n",
              "          element.appendChild(docLink);\n",
              "        }\n",
              "      </script>\n",
              "    </div>\n",
              "  </div>\n",
              "  "
            ]
          },
          "metadata": {},
          "execution_count": 18
        }
      ]
    },
    {
      "cell_type": "markdown",
      "source": [
        "### Thêm cột speed (tốc độ) vào tập dữ liệu"
      ],
      "metadata": {
        "id": "oiEmXlcUdOBa"
      }
    },
    {
      "cell_type": "code",
      "source": [
        "# Define hàm tính tốc độ của chuyến đi\n",
        "def get_speed(trip):\n",
        "    return trip['distance']/trip['trip_duration']"
      ],
      "metadata": {
        "id": "LTBJr2iydbVH"
      },
      "execution_count": null,
      "outputs": []
    },
    {
      "cell_type": "code",
      "source": [
        "#UNCOMMENT TO TUN CODE\n",
        "# Bỏ dấu comment để chạy code, ở đây để tiết kiệm thời gian nhóm đã chạy trước và sẽ lấy kết quả có sẵn \n",
        "# để thực hiện các bước tiếp theo.\n",
        "#speed = taxi_df.apply(get_speed, axis=1)\n",
        "#speed.to_csv('speed.csv', index=False)"
      ],
      "metadata": {
        "id": "-yVWN_vMdx1I"
      },
      "execution_count": null,
      "outputs": []
    },
    {
      "cell_type": "code",
      "source": [
        "taxi_df['speed'] = taxi_df.distance/taxi_df.trip_duration*1000"
      ],
      "metadata": {
        "id": "C0rkJCGzf47Y"
      },
      "execution_count": null,
      "outputs": []
    },
    {
      "cell_type": "code",
      "source": [
        "taxi_df.head()"
      ],
      "metadata": {
        "colab": {
          "base_uri": "https://localhost:8080/",
          "height": 357
        },
        "id": "f4AIfJ4Ugr2C",
        "outputId": "4183fbb3-b259-4501-a322-a5527fe6b3d3"
      },
      "execution_count": null,
      "outputs": [
        {
          "output_type": "execute_result",
          "data": {
            "text/plain": [
              "          id vendor_id     pickup_datetime    dropoff_datetime  \\\n",
              "0  id2875421         2 2016-03-14 17:24:55 2016-03-14 17:32:30   \n",
              "1  id2377394         1 2016-06-12 00:43:35 2016-06-12 00:54:38   \n",
              "2  id3858529         2 2016-01-19 11:35:24 2016-01-19 12:10:48   \n",
              "3  id3504673         2 2016-04-06 19:32:31 2016-04-06 19:39:40   \n",
              "4  id2181028         2 2016-03-26 13:30:55 2016-03-26 13:38:10   \n",
              "\n",
              "   passenger_count  pickup_longitude  pickup_latitude  dropoff_longitude  \\\n",
              "0                1        -73.982155        40.767937         -73.964630   \n",
              "1                1        -73.980415        40.738564         -73.999481   \n",
              "2                1        -73.979027        40.763939         -74.005333   \n",
              "3                1        -74.010040        40.719971         -74.012268   \n",
              "4                1        -73.973053        40.793209         -73.972923   \n",
              "\n",
              "   dropoff_latitude  store_and_fwd_flag  trip_duration  distance     speed  \n",
              "0         40.765602               False            455  1.502172  3.301477  \n",
              "1         40.731152               False            663  1.808660  2.727994  \n",
              "2         40.710087               False           2124  6.379687  3.003619  \n",
              "3         40.706718               False            429  1.483632  3.458351  \n",
              "4         40.782520               False            435  1.187038  2.728822  "
            ],
            "text/html": [
              "\n",
              "  <div id=\"df-68d80a61-46dd-499e-98c2-866fa9e35d71\">\n",
              "    <div class=\"colab-df-container\">\n",
              "      <div>\n",
              "<style scoped>\n",
              "    .dataframe tbody tr th:only-of-type {\n",
              "        vertical-align: middle;\n",
              "    }\n",
              "\n",
              "    .dataframe tbody tr th {\n",
              "        vertical-align: top;\n",
              "    }\n",
              "\n",
              "    .dataframe thead th {\n",
              "        text-align: right;\n",
              "    }\n",
              "</style>\n",
              "<table border=\"1\" class=\"dataframe\">\n",
              "  <thead>\n",
              "    <tr style=\"text-align: right;\">\n",
              "      <th></th>\n",
              "      <th>id</th>\n",
              "      <th>vendor_id</th>\n",
              "      <th>pickup_datetime</th>\n",
              "      <th>dropoff_datetime</th>\n",
              "      <th>passenger_count</th>\n",
              "      <th>pickup_longitude</th>\n",
              "      <th>pickup_latitude</th>\n",
              "      <th>dropoff_longitude</th>\n",
              "      <th>dropoff_latitude</th>\n",
              "      <th>store_and_fwd_flag</th>\n",
              "      <th>trip_duration</th>\n",
              "      <th>distance</th>\n",
              "      <th>speed</th>\n",
              "    </tr>\n",
              "  </thead>\n",
              "  <tbody>\n",
              "    <tr>\n",
              "      <th>0</th>\n",
              "      <td>id2875421</td>\n",
              "      <td>2</td>\n",
              "      <td>2016-03-14 17:24:55</td>\n",
              "      <td>2016-03-14 17:32:30</td>\n",
              "      <td>1</td>\n",
              "      <td>-73.982155</td>\n",
              "      <td>40.767937</td>\n",
              "      <td>-73.964630</td>\n",
              "      <td>40.765602</td>\n",
              "      <td>False</td>\n",
              "      <td>455</td>\n",
              "      <td>1.502172</td>\n",
              "      <td>3.301477</td>\n",
              "    </tr>\n",
              "    <tr>\n",
              "      <th>1</th>\n",
              "      <td>id2377394</td>\n",
              "      <td>1</td>\n",
              "      <td>2016-06-12 00:43:35</td>\n",
              "      <td>2016-06-12 00:54:38</td>\n",
              "      <td>1</td>\n",
              "      <td>-73.980415</td>\n",
              "      <td>40.738564</td>\n",
              "      <td>-73.999481</td>\n",
              "      <td>40.731152</td>\n",
              "      <td>False</td>\n",
              "      <td>663</td>\n",
              "      <td>1.808660</td>\n",
              "      <td>2.727994</td>\n",
              "    </tr>\n",
              "    <tr>\n",
              "      <th>2</th>\n",
              "      <td>id3858529</td>\n",
              "      <td>2</td>\n",
              "      <td>2016-01-19 11:35:24</td>\n",
              "      <td>2016-01-19 12:10:48</td>\n",
              "      <td>1</td>\n",
              "      <td>-73.979027</td>\n",
              "      <td>40.763939</td>\n",
              "      <td>-74.005333</td>\n",
              "      <td>40.710087</td>\n",
              "      <td>False</td>\n",
              "      <td>2124</td>\n",
              "      <td>6.379687</td>\n",
              "      <td>3.003619</td>\n",
              "    </tr>\n",
              "    <tr>\n",
              "      <th>3</th>\n",
              "      <td>id3504673</td>\n",
              "      <td>2</td>\n",
              "      <td>2016-04-06 19:32:31</td>\n",
              "      <td>2016-04-06 19:39:40</td>\n",
              "      <td>1</td>\n",
              "      <td>-74.010040</td>\n",
              "      <td>40.719971</td>\n",
              "      <td>-74.012268</td>\n",
              "      <td>40.706718</td>\n",
              "      <td>False</td>\n",
              "      <td>429</td>\n",
              "      <td>1.483632</td>\n",
              "      <td>3.458351</td>\n",
              "    </tr>\n",
              "    <tr>\n",
              "      <th>4</th>\n",
              "      <td>id2181028</td>\n",
              "      <td>2</td>\n",
              "      <td>2016-03-26 13:30:55</td>\n",
              "      <td>2016-03-26 13:38:10</td>\n",
              "      <td>1</td>\n",
              "      <td>-73.973053</td>\n",
              "      <td>40.793209</td>\n",
              "      <td>-73.972923</td>\n",
              "      <td>40.782520</td>\n",
              "      <td>False</td>\n",
              "      <td>435</td>\n",
              "      <td>1.187038</td>\n",
              "      <td>2.728822</td>\n",
              "    </tr>\n",
              "  </tbody>\n",
              "</table>\n",
              "</div>\n",
              "      <button class=\"colab-df-convert\" onclick=\"convertToInteractive('df-68d80a61-46dd-499e-98c2-866fa9e35d71')\"\n",
              "              title=\"Convert this dataframe to an interactive table.\"\n",
              "              style=\"display:none;\">\n",
              "        \n",
              "  <svg xmlns=\"http://www.w3.org/2000/svg\" height=\"24px\"viewBox=\"0 0 24 24\"\n",
              "       width=\"24px\">\n",
              "    <path d=\"M0 0h24v24H0V0z\" fill=\"none\"/>\n",
              "    <path d=\"M18.56 5.44l.94 2.06.94-2.06 2.06-.94-2.06-.94-.94-2.06-.94 2.06-2.06.94zm-11 1L8.5 8.5l.94-2.06 2.06-.94-2.06-.94L8.5 2.5l-.94 2.06-2.06.94zm10 10l.94 2.06.94-2.06 2.06-.94-2.06-.94-.94-2.06-.94 2.06-2.06.94z\"/><path d=\"M17.41 7.96l-1.37-1.37c-.4-.4-.92-.59-1.43-.59-.52 0-1.04.2-1.43.59L10.3 9.45l-7.72 7.72c-.78.78-.78 2.05 0 2.83L4 21.41c.39.39.9.59 1.41.59.51 0 1.02-.2 1.41-.59l7.78-7.78 2.81-2.81c.8-.78.8-2.07 0-2.86zM5.41 20L4 18.59l7.72-7.72 1.47 1.35L5.41 20z\"/>\n",
              "  </svg>\n",
              "      </button>\n",
              "      \n",
              "  <style>\n",
              "    .colab-df-container {\n",
              "      display:flex;\n",
              "      flex-wrap:wrap;\n",
              "      gap: 12px;\n",
              "    }\n",
              "\n",
              "    .colab-df-convert {\n",
              "      background-color: #E8F0FE;\n",
              "      border: none;\n",
              "      border-radius: 50%;\n",
              "      cursor: pointer;\n",
              "      display: none;\n",
              "      fill: #1967D2;\n",
              "      height: 32px;\n",
              "      padding: 0 0 0 0;\n",
              "      width: 32px;\n",
              "    }\n",
              "\n",
              "    .colab-df-convert:hover {\n",
              "      background-color: #E2EBFA;\n",
              "      box-shadow: 0px 1px 2px rgba(60, 64, 67, 0.3), 0px 1px 3px 1px rgba(60, 64, 67, 0.15);\n",
              "      fill: #174EA6;\n",
              "    }\n",
              "\n",
              "    [theme=dark] .colab-df-convert {\n",
              "      background-color: #3B4455;\n",
              "      fill: #D2E3FC;\n",
              "    }\n",
              "\n",
              "    [theme=dark] .colab-df-convert:hover {\n",
              "      background-color: #434B5C;\n",
              "      box-shadow: 0px 1px 3px 1px rgba(0, 0, 0, 0.15);\n",
              "      filter: drop-shadow(0px 1px 2px rgba(0, 0, 0, 0.3));\n",
              "      fill: #FFFFFF;\n",
              "    }\n",
              "  </style>\n",
              "\n",
              "      <script>\n",
              "        const buttonEl =\n",
              "          document.querySelector('#df-68d80a61-46dd-499e-98c2-866fa9e35d71 button.colab-df-convert');\n",
              "        buttonEl.style.display =\n",
              "          google.colab.kernel.accessAllowed ? 'block' : 'none';\n",
              "\n",
              "        async function convertToInteractive(key) {\n",
              "          const element = document.querySelector('#df-68d80a61-46dd-499e-98c2-866fa9e35d71');\n",
              "          const dataTable =\n",
              "            await google.colab.kernel.invokeFunction('convertToInteractive',\n",
              "                                                     [key], {});\n",
              "          if (!dataTable) return;\n",
              "\n",
              "          const docLinkHtml = 'Like what you see? Visit the ' +\n",
              "            '<a target=\"_blank\" href=https://colab.research.google.com/notebooks/data_table.ipynb>data table notebook</a>'\n",
              "            + ' to learn more about interactive tables.';\n",
              "          element.innerHTML = '';\n",
              "          dataTable['output_type'] = 'display_data';\n",
              "          await google.colab.output.renderOutput(dataTable, element);\n",
              "          const docLink = document.createElement('div');\n",
              "          docLink.innerHTML = docLinkHtml;\n",
              "          element.appendChild(docLink);\n",
              "        }\n",
              "      </script>\n",
              "    </div>\n",
              "  </div>\n",
              "  "
            ]
          },
          "metadata": {},
          "execution_count": 49
        }
      ]
    },
    {
      "cell_type": "markdown",
      "source": [
        "## Khám phá dữ liệu (tiếp tục)"
      ],
      "metadata": {
        "id": "xTKSFtquAOmP"
      }
    },
    {
      "cell_type": "markdown",
      "source": [
        "### Ở phần này, ta sẽ bắt đầu tìm hiểu riêng các thuộc tính của tập dữ liệu"
      ],
      "metadata": {
        "id": "CGgO8qV0ARyk"
      }
    },
    {
      "cell_type": "code",
      "source": [
        "nume_col_df = taxi_df[[\"passenger_count\", \"pickup_datetime\", \"dropoff_datetime\",\"pickup_latitude\", \"pickup_longitude\", \"dropoff_latitude\", \\\n",
        "                      \"dropoff_longitude\", \"trip_duration\", \"distance\", \"speed\"]]"
      ],
      "metadata": {
        "id": "xQYcin5rASw0"
      },
      "execution_count": null,
      "outputs": []
    },
    {
      "cell_type": "code",
      "source": [
        "def missing_ratio(s):\n",
        "    return s.isna().mean() * 100"
      ],
      "metadata": {
        "id": "jlxTN0thAVW5"
      },
      "execution_count": null,
      "outputs": []
    },
    {
      "cell_type": "code",
      "source": [
        "nume_col_df = nume_col_df.agg([missing_ratio, min, max]);\n",
        "nume_col_df"
      ],
      "metadata": {
        "colab": {
          "base_uri": "https://localhost:8080/",
          "height": 242
        },
        "id": "aGAAhHzCAW9g",
        "outputId": "91817f76-f644-4b10-d788-3708aae72340"
      },
      "execution_count": null,
      "outputs": [
        {
          "output_type": "execute_result",
          "data": {
            "text/plain": [
              "               passenger_count      pickup_datetime     dropoff_datetime  \\\n",
              "missing_ratio              0.0                  0.0                  0.0   \n",
              "min                        0.0  2016-01-01 00:00:17  2016-01-01 00:03:31   \n",
              "max                        9.0  2016-06-30 23:59:39  2016-07-01 23:02:03   \n",
              "\n",
              "               pickup_latitude  pickup_longitude  dropoff_latitude  \\\n",
              "missing_ratio         0.000000          0.000000          0.000000   \n",
              "min                  34.359695       -121.933342         32.181141   \n",
              "max                  51.881084        -61.335529         43.921028   \n",
              "\n",
              "               dropoff_longitude  trip_duration     distance        speed  \n",
              "missing_ratio           0.000000            0.0     0.000000     0.000000  \n",
              "min                  -121.933304            1.0     0.000000     0.000000  \n",
              "max                   -61.335529      3526282.0  1240.510256  2577.661604  "
            ],
            "text/html": [
              "\n",
              "  <div id=\"df-5df9dd74-05fa-467c-aa1d-c775b80f8cee\">\n",
              "    <div class=\"colab-df-container\">\n",
              "      <div>\n",
              "<style scoped>\n",
              "    .dataframe tbody tr th:only-of-type {\n",
              "        vertical-align: middle;\n",
              "    }\n",
              "\n",
              "    .dataframe tbody tr th {\n",
              "        vertical-align: top;\n",
              "    }\n",
              "\n",
              "    .dataframe thead th {\n",
              "        text-align: right;\n",
              "    }\n",
              "</style>\n",
              "<table border=\"1\" class=\"dataframe\">\n",
              "  <thead>\n",
              "    <tr style=\"text-align: right;\">\n",
              "      <th></th>\n",
              "      <th>passenger_count</th>\n",
              "      <th>pickup_datetime</th>\n",
              "      <th>dropoff_datetime</th>\n",
              "      <th>pickup_latitude</th>\n",
              "      <th>pickup_longitude</th>\n",
              "      <th>dropoff_latitude</th>\n",
              "      <th>dropoff_longitude</th>\n",
              "      <th>trip_duration</th>\n",
              "      <th>distance</th>\n",
              "      <th>speed</th>\n",
              "    </tr>\n",
              "  </thead>\n",
              "  <tbody>\n",
              "    <tr>\n",
              "      <th>missing_ratio</th>\n",
              "      <td>0.0</td>\n",
              "      <td>0.0</td>\n",
              "      <td>0.0</td>\n",
              "      <td>0.000000</td>\n",
              "      <td>0.000000</td>\n",
              "      <td>0.000000</td>\n",
              "      <td>0.000000</td>\n",
              "      <td>0.0</td>\n",
              "      <td>0.000000</td>\n",
              "      <td>0.000000</td>\n",
              "    </tr>\n",
              "    <tr>\n",
              "      <th>min</th>\n",
              "      <td>0.0</td>\n",
              "      <td>2016-01-01 00:00:17</td>\n",
              "      <td>2016-01-01 00:03:31</td>\n",
              "      <td>34.359695</td>\n",
              "      <td>-121.933342</td>\n",
              "      <td>32.181141</td>\n",
              "      <td>-121.933304</td>\n",
              "      <td>1.0</td>\n",
              "      <td>0.000000</td>\n",
              "      <td>0.000000</td>\n",
              "    </tr>\n",
              "    <tr>\n",
              "      <th>max</th>\n",
              "      <td>9.0</td>\n",
              "      <td>2016-06-30 23:59:39</td>\n",
              "      <td>2016-07-01 23:02:03</td>\n",
              "      <td>51.881084</td>\n",
              "      <td>-61.335529</td>\n",
              "      <td>43.921028</td>\n",
              "      <td>-61.335529</td>\n",
              "      <td>3526282.0</td>\n",
              "      <td>1240.510256</td>\n",
              "      <td>2577.661604</td>\n",
              "    </tr>\n",
              "  </tbody>\n",
              "</table>\n",
              "</div>\n",
              "      <button class=\"colab-df-convert\" onclick=\"convertToInteractive('df-5df9dd74-05fa-467c-aa1d-c775b80f8cee')\"\n",
              "              title=\"Convert this dataframe to an interactive table.\"\n",
              "              style=\"display:none;\">\n",
              "        \n",
              "  <svg xmlns=\"http://www.w3.org/2000/svg\" height=\"24px\"viewBox=\"0 0 24 24\"\n",
              "       width=\"24px\">\n",
              "    <path d=\"M0 0h24v24H0V0z\" fill=\"none\"/>\n",
              "    <path d=\"M18.56 5.44l.94 2.06.94-2.06 2.06-.94-2.06-.94-.94-2.06-.94 2.06-2.06.94zm-11 1L8.5 8.5l.94-2.06 2.06-.94-2.06-.94L8.5 2.5l-.94 2.06-2.06.94zm10 10l.94 2.06.94-2.06 2.06-.94-2.06-.94-.94-2.06-.94 2.06-2.06.94z\"/><path d=\"M17.41 7.96l-1.37-1.37c-.4-.4-.92-.59-1.43-.59-.52 0-1.04.2-1.43.59L10.3 9.45l-7.72 7.72c-.78.78-.78 2.05 0 2.83L4 21.41c.39.39.9.59 1.41.59.51 0 1.02-.2 1.41-.59l7.78-7.78 2.81-2.81c.8-.78.8-2.07 0-2.86zM5.41 20L4 18.59l7.72-7.72 1.47 1.35L5.41 20z\"/>\n",
              "  </svg>\n",
              "      </button>\n",
              "      \n",
              "  <style>\n",
              "    .colab-df-container {\n",
              "      display:flex;\n",
              "      flex-wrap:wrap;\n",
              "      gap: 12px;\n",
              "    }\n",
              "\n",
              "    .colab-df-convert {\n",
              "      background-color: #E8F0FE;\n",
              "      border: none;\n",
              "      border-radius: 50%;\n",
              "      cursor: pointer;\n",
              "      display: none;\n",
              "      fill: #1967D2;\n",
              "      height: 32px;\n",
              "      padding: 0 0 0 0;\n",
              "      width: 32px;\n",
              "    }\n",
              "\n",
              "    .colab-df-convert:hover {\n",
              "      background-color: #E2EBFA;\n",
              "      box-shadow: 0px 1px 2px rgba(60, 64, 67, 0.3), 0px 1px 3px 1px rgba(60, 64, 67, 0.15);\n",
              "      fill: #174EA6;\n",
              "    }\n",
              "\n",
              "    [theme=dark] .colab-df-convert {\n",
              "      background-color: #3B4455;\n",
              "      fill: #D2E3FC;\n",
              "    }\n",
              "\n",
              "    [theme=dark] .colab-df-convert:hover {\n",
              "      background-color: #434B5C;\n",
              "      box-shadow: 0px 1px 3px 1px rgba(0, 0, 0, 0.15);\n",
              "      filter: drop-shadow(0px 1px 2px rgba(0, 0, 0, 0.3));\n",
              "      fill: #FFFFFF;\n",
              "    }\n",
              "  </style>\n",
              "\n",
              "      <script>\n",
              "        const buttonEl =\n",
              "          document.querySelector('#df-5df9dd74-05fa-467c-aa1d-c775b80f8cee button.colab-df-convert');\n",
              "        buttonEl.style.display =\n",
              "          google.colab.kernel.accessAllowed ? 'block' : 'none';\n",
              "\n",
              "        async function convertToInteractive(key) {\n",
              "          const element = document.querySelector('#df-5df9dd74-05fa-467c-aa1d-c775b80f8cee');\n",
              "          const dataTable =\n",
              "            await google.colab.kernel.invokeFunction('convertToInteractive',\n",
              "                                                     [key], {});\n",
              "          if (!dataTable) return;\n",
              "\n",
              "          const docLinkHtml = 'Like what you see? Visit the ' +\n",
              "            '<a target=\"_blank\" href=https://colab.research.google.com/notebooks/data_table.ipynb>data table notebook</a>'\n",
              "            + ' to learn more about interactive tables.';\n",
              "          element.innerHTML = '';\n",
              "          dataTable['output_type'] = 'display_data';\n",
              "          await google.colab.output.renderOutput(dataTable, element);\n",
              "          const docLink = document.createElement('div');\n",
              "          docLink.innerHTML = docLinkHtml;\n",
              "          element.appendChild(docLink);\n",
              "        }\n",
              "      </script>\n",
              "    </div>\n",
              "  </div>\n",
              "  "
            ]
          },
          "metadata": {},
          "execution_count": 48
        }
      ]
    },
    {
      "cell_type": "markdown",
      "source": [
        "Dựa vào bảng kết quả trên ta có nhận xét như sau:\n",
        "- Tất cả các thuộc tính đều không có giá trị Na (giá trị bị thiếu)\n",
        "- Có chuyến đi với số lượng hành khách thấp nhất là 0 và cao nhất là 9 người. Chúng ta sẽ tìm hiểu vấn đề này trong phần tiếp theo.\n",
        "- Có chuyến đi với thời gian di chuyển chỉ 1 giây với quãng đường di chuyển là 0 km. Đây là chuyến đi với thời gian ngắn bất thường\n",
        "- Chúng ta có các chuyến đi với độ dài trip_duration lên tới 3526282 giây, tương ứng với hơn 40 ngày. Có chuyến đi với quãng đường lên tới 1240.5 km, đặc biệt hơn còn có chuyến đi có tốc độ lên tới 2577.66 m/s. Ngoài ra, chúng ta còn có các chuyến đi có vẻ không di chuyể với quãng đường và tốc độ bằng 0. Đây đều là những chuyến đi có thuộc tính rất bất thường."
      ],
      "metadata": {
        "id": "RQr2-w6UAZPY"
      }
    },
    {
      "cell_type": "markdown",
      "source": [
        "### Khảo sát cột **passenger_count**"
      ],
      "metadata": {
        "id": "4dpHg-5XAgxJ"
      }
    },
    {
      "cell_type": "code",
      "source": [
        "plt.hist(taxi_df['passenger_count']);"
      ],
      "metadata": {
        "colab": {
          "base_uri": "https://localhost:8080/",
          "height": 276
        },
        "id": "3LPoecnwAhto",
        "outputId": "cbb148c0-4560-4aa1-f57c-f31a63b52673"
      },
      "execution_count": null,
      "outputs": [
        {
          "output_type": "display_data",
          "data": {
            "text/plain": [
              "<Figure size 432x288 with 1 Axes>"
            ],
            "image/png": "[encoded data removed]"
          },
          "metadata": {}
        }
      ]
    },
    {
      "cell_type": "code",
      "source": [
        "taxi_df['passenger_count'].value_counts()"
      ],
      "metadata": {
        "colab": {
          "base_uri": "https://localhost:8080/"
        },
        "id": "zeqYpVkCAk_-",
        "outputId": "ba446929-f2a2-4607-e73a-2f2b2a67034c"
      },
      "execution_count": null,
      "outputs": [
        {
          "output_type": "execute_result",
          "data": {
            "text/plain": [
              "1    1033540\n",
              "2     210318\n",
              "5      78088\n",
              "3      59896\n",
              "6      48333\n",
              "4      28404\n",
              "0         60\n",
              "7          3\n",
              "9          1\n",
              "8          1\n",
              "Name: passenger_count, dtype: int64"
            ]
          },
          "metadata": {},
          "execution_count": 26
        }
      ]
    },
    {
      "cell_type": "markdown",
      "source": [
        "Nhận xét:\n",
        "- Ta thấy phần lớn các chuyến đi sẽ có số lượng là 1 hành khách với 1033540 bản ghi, tiếp sau đó là 2 người với 210318 bản ghi. Đối với các chuyến đi có từ 3 đến 6 hành khách cũng có số lượng nhất định nằm trong khoảng từ 30000 đến 80000 bản ghi\n",
        "- Ta cũng thấy có 60 chuyến đi với số lượng là 0 hành khách, đối với các chuyến có 7 8 9 hành khách cũng có rất ít bản ghi."
      ],
      "metadata": {
        "id": "E7ZJpM7hAoKB"
      }
    },
    {
      "cell_type": "markdown",
      "source": [
        "Vì tồn tại các dòng dữ liệu với các số liệu bất thường, đồng thời chúng cũng chiếm phần thiểu số trong tập dữ liệu, nên ta quyết định sẽ xóa bỏ các dòng có số lượng hành khách là 0, 7, 8 và 9 ra khỏi tập dữ liệu."
      ],
      "metadata": {
        "id": "KTW9aE9mAtzn"
      }
    },
    {
      "cell_type": "markdown",
      "source": [
        "### Khảo sát cột \"trip_duration\""
      ],
      "metadata": {
        "id": "IHuQ377EAu2j"
      }
    },
    {
      "cell_type": "markdown",
      "source": [
        "Trước tiên, ta xem qua biểu đồ boxplot của của cột trip_duration."
      ],
      "metadata": {
        "id": "87ECn1xgWwlF"
      }
    },
    {
      "cell_type": "code",
      "source": [
        "sns.boxplot(taxi_df['trip_duration'])"
      ],
      "metadata": {
        "colab": {
          "base_uri": "https://localhost:8080/",
          "height": 354
        },
        "id": "_7FlegC_WPIu",
        "outputId": "b6312f78-e2ec-42c8-9261-4110f988c8b1"
      },
      "execution_count": null,
      "outputs": [
        {
          "output_type": "stream",
          "name": "stderr",
          "text": [
            "/usr/local/lib/python3.8/dist-packages/seaborn/_decorators.py:36: FutureWarning: Pass the following variable as a keyword arg: x. From version 0.12, the only valid positional argument will be `data`, and passing other arguments without an explicit keyword will result in an error or misinterpretation.\n",
            "  warnings.warn(\n"
          ]
        },
        {
          "output_type": "execute_result",
          "data": {
            "text/plain": [
              "<matplotlib.axes._subplots.AxesSubplot at 0x7fb6f7c05b80>"
            ]
          },
          "metadata": {},
          "execution_count": 50
        },
        {
          "output_type": "display_data",
          "data": {
            "text/plain": [
              "<Figure size 432x288 with 1 Axes>"
            ],
            "image/png": "[encoded data removed]"
          },
          "metadata": {}
        }
      ]
    },
    {
      "cell_type": "markdown",
      "source": [
        "Nhận xét: Thông qua biểu đồ boxplot phía trên, ta có thể thấy thuộc tính trip_duration có các giá trị ngoại lai."
      ],
      "metadata": {
        "id": "624CnXpeZIFo"
      }
    },
    {
      "cell_type": "code",
      "source": [
        "taxi_df[\"trip_duration\"].sort_values(ascending=False)[:15]"
      ],
      "metadata": {
        "colab": {
          "base_uri": "https://localhost:8080/"
        },
        "id": "MoPpqZurAxFB",
        "outputId": "19805bd1-fd12-4a50-d8f4-e489d13ab4d9"
      },
      "execution_count": null,
      "outputs": [
        {
          "output_type": "execute_result",
          "data": {
            "text/plain": [
              "978383     3526282\n",
              "924150     2227612\n",
              "680594     2049578\n",
              "355003     1939736\n",
              "1234291      86392\n",
              "295382       86391\n",
              "73816        86390\n",
              "59891        86387\n",
              "1360439      86385\n",
              "753765       86379\n",
              "1221666      86378\n",
              "91717        86378\n",
              "1138915      86377\n",
              "66346        86377\n",
              "1284067      86369\n",
              "Name: trip_duration, dtype: int64"
            ]
          },
          "metadata": {},
          "execution_count": 28
        }
      ]
    },
    {
      "cell_type": "markdown",
      "source": [
        "Nhận xét:\n",
        "- Có 4 chuyến đi với với thời lượng di chuyển khá lớn từ gần 2 triệu giây đến hơn 3.5 triệu giây.\n",
        "- Ngoài 4 chuyến đi với thời lượng di chuyển rất lớn ở phía trên, thì các chuyến đi còn lại trong tập dữ liệu của chúng ta sẽ có trip_duration không vượt quá 86400."
      ],
      "metadata": {
        "id": "25zewmVgAzED"
      }
    },
    {
      "cell_type": "markdown",
      "source": [
        "Tiếp theo, ta sẽ quan sát sự phân bố về số lượng các chuyến taxi có **trip_duration** nằm trong các khoảng (0-5000) giây, (5000, 10000), (10000, 80000), (80000, 82000), (82000, 83000), (83000, 84000) và (84000, 84600)."
      ],
      "metadata": {
        "id": "bJ7O00YzA2a1"
      }
    },
    {
      "cell_type": "code",
      "source": [
        "plt.hist(taxi_df['trip_duration'], range=(0, 5000))\n",
        "plt.xlabel('trip_duration (second)')\n",
        "plt.ylabel('count')"
      ],
      "metadata": {
        "colab": {
          "base_uri": "https://localhost:8080/",
          "height": 299
        },
        "id": "4gmPw5jsA4xu",
        "outputId": "bfd7703a-c830-4e3e-9cfa-45bf87b6343f"
      },
      "execution_count": null,
      "outputs": [
        {
          "output_type": "execute_result",
          "data": {
            "text/plain": [
              "Text(0, 0.5, 'count')"
            ]
          },
          "metadata": {},
          "execution_count": 29
        },
        {
          "output_type": "display_data",
          "data": {
            "text/plain": [
              "<Figure size 432x288 with 1 Axes>"
            ],
            "image/png": "[encoded data removed]"
          },
          "metadata": {}
        }
      ]
    },
    {
      "cell_type": "code",
      "source": [
        "plt.hist(taxi_df['trip_duration'], range=(5000, 10000))\n",
        "plt.xlabel('trip_duration (second)')\n",
        "plt.ylabel('count')"
      ],
      "metadata": {
        "colab": {
          "base_uri": "https://localhost:8080/",
          "height": 299
        },
        "id": "WGiMVvExA5r0",
        "outputId": "cbd28d61-a607-4d63-cd71-5d05226d0d70"
      },
      "execution_count": null,
      "outputs": [
        {
          "output_type": "execute_result",
          "data": {
            "text/plain": [
              "Text(0, 0.5, 'count')"
            ]
          },
          "metadata": {},
          "execution_count": 30
        },
        {
          "output_type": "display_data",
          "data": {
            "text/plain": [
              "<Figure size 432x288 with 1 Axes>"
            ],
            "image/png": "[encoded data removed]"
          },
          "metadata": {}
        }
      ]
    },
    {
      "cell_type": "code",
      "source": [
        "plt.hist(taxi_df['trip_duration'], range=(10000, 80000))\n",
        "plt.xlabel('trip_duration (second)')\n",
        "plt.ylabel('count')"
      ],
      "metadata": {
        "colab": {
          "base_uri": "https://localhost:8080/",
          "height": 299
        },
        "id": "LrSgTHttA8RO",
        "outputId": "8da9cbe2-4e5a-4600-ad83-31aebbc6c3c2"
      },
      "execution_count": null,
      "outputs": [
        {
          "output_type": "execute_result",
          "data": {
            "text/plain": [
              "Text(0, 0.5, 'count')"
            ]
          },
          "metadata": {},
          "execution_count": 31
        },
        {
          "output_type": "display_data",
          "data": {
            "text/plain": [
              "<Figure size 432x288 with 1 Axes>"
            ],
            "image/png": "[encoded data removed]"
          },
          "metadata": {}
        }
      ]
    },
    {
      "cell_type": "code",
      "source": [
        "plt.hist(taxi_df['trip_duration'], range=(80000, 82000))\n",
        "plt.xlabel('trip_duration (second)')\n",
        "plt.ylabel('count')"
      ],
      "metadata": {
        "colab": {
          "base_uri": "https://localhost:8080/",
          "height": 299
        },
        "id": "AfRGX8QjA-Qo",
        "outputId": "e3c58f71-d670-4f1b-d354-9ed0542939c0"
      },
      "execution_count": null,
      "outputs": [
        {
          "output_type": "execute_result",
          "data": {
            "text/plain": [
              "Text(0, 0.5, 'count')"
            ]
          },
          "metadata": {},
          "execution_count": 32
        },
        {
          "output_type": "display_data",
          "data": {
            "text/plain": [
              "<Figure size 432x288 with 1 Axes>"
            ],
            "image/png": "[encoded data removed]"
          },
          "metadata": {}
        }
      ]
    },
    {
      "cell_type": "code",
      "source": [
        "plt.hist(taxi_df['trip_duration'], range=(82000, 83000))\n",
        "plt.xlabel('trip_duration (second)')\n",
        "plt.ylabel('count')"
      ],
      "metadata": {
        "colab": {
          "base_uri": "https://localhost:8080/",
          "height": 299
        },
        "id": "HUl3KUrX1sdU",
        "outputId": "096677e7-9022-4279-8182-a90cd9d54d34"
      },
      "execution_count": null,
      "outputs": [
        {
          "output_type": "execute_result",
          "data": {
            "text/plain": [
              "Text(0, 0.5, 'count')"
            ]
          },
          "metadata": {},
          "execution_count": 33
        },
        {
          "output_type": "display_data",
          "data": {
            "text/plain": [
              "<Figure size 432x288 with 1 Axes>"
            ],
            "image/png": "[encoded data removed]"
          },
          "metadata": {}
        }
      ]
    },
    {
      "cell_type": "code",
      "source": [
        "plt.hist(taxi_df['trip_duration'], range=(83000, 84000))\n",
        "plt.xlabel('trip_duration (second)')\n",
        "plt.ylabel('count')"
      ],
      "metadata": {
        "colab": {
          "base_uri": "https://localhost:8080/",
          "height": 299
        },
        "id": "BredY1tq1_b2",
        "outputId": "b9afb3e4-2a15-4988-a868-5f3c20d77e78"
      },
      "execution_count": null,
      "outputs": [
        {
          "output_type": "execute_result",
          "data": {
            "text/plain": [
              "Text(0, 0.5, 'count')"
            ]
          },
          "metadata": {},
          "execution_count": 34
        },
        {
          "output_type": "display_data",
          "data": {
            "text/plain": [
              "<Figure size 432x288 with 1 Axes>"
            ],
            "image/png": "[encoded data removed]"
          },
          "metadata": {}
        }
      ]
    },
    {
      "cell_type": "code",
      "source": [
        "plt.hist(taxi_df['trip_duration'], range=(84000, 86400))\n",
        "plt.xlabel('trip_duration (second)')\n",
        "plt.ylabel('count')"
      ],
      "metadata": {
        "colab": {
          "base_uri": "https://localhost:8080/",
          "height": 299
        },
        "id": "qmaMstH12GQp",
        "outputId": "88f44d98-b804-4e1d-eb28-40bd8091c002"
      },
      "execution_count": null,
      "outputs": [
        {
          "output_type": "execute_result",
          "data": {
            "text/plain": [
              "Text(0, 0.5, 'count')"
            ]
          },
          "metadata": {},
          "execution_count": 55
        },
        {
          "output_type": "display_data",
          "data": {
            "text/plain": [
              "<Figure size 432x288 with 1 Axes>"
            ],
            "image/png": "[encoded data removed]"
          },
          "metadata": {}
        }
      ]
    },
    {
      "cell_type": "markdown",
      "source": [
        "**Nhận xét:**\n",
        "- Các chuyến đi trong tập dữ liệu phần lớn có trip_duration từ 3000 giây trở về trước với số lượng bản ghi rất lớn so với các miền giá trị còn lại. Chỉ riêng với khoảng từ 0 tới 1000 giây đã có tới hơn 1 triệu bản ghi trong khi tập dữ liệu chỉ gần 1 triệu rưỡi dòng.\n",
        "- Trong khoảng từ 7000 giây đến 86400 giây chúng ta có khá ít bản ghi mặc dù đây là một khoảng giá trị rất dài, dài hơn rất nhiều so với miền giá trị trước đó nhưng so về số lượng bản ghi thì ít hơn rất nhiều.\n",
        "- Ta nhận thấy từ cột mốc 82600s trở lên thì số lượng bản ghi có xu hướng tăng. Đây là một khoảng giá trị trip_duration vô cùng lớn vì nó kéo dài tới xấp xỉ tới 40 ngày (quá dài so với 1 chuyến taxi thông thường trong một thành phố). Và ta cũng nhận thấy rằng khi thời lượng của trip_duration càng lớn thì số lượng bản ghi có xu hướng giảm đi. Điều này là hợp lý vì thời lượng của các chuyến taxi thường không dài đến thế và các chuyến đi này chỉ là thiểu số hoặc không tồn tại ở ngoài thực tế. Vì vậy, việc có nhiều chuyến taxi có trip_duration kéo dài tới xấp xỉ 40 ngày tăng lên bất ngờ như thế là một bất thường."
      ],
      "metadata": {
        "id": "Vg4M9ArzBA6h"
      }
    },
    {
      "cell_type": "markdown",
      "source": [
        "Ta cũng sẽ xem tốc độ và quãng đường của các chuyến đi có trip_duration >= 82600"
      ],
      "metadata": {
        "id": "_N5kv-RGomLx"
      }
    },
    {
      "cell_type": "code",
      "source": [
        "plt.hist(taxi_df[taxi_df['trip_duration'] >= 82600]['distance'])"
      ],
      "metadata": {
        "colab": {
          "base_uri": "https://localhost:8080/",
          "height": 370
        },
        "id": "WOrcyaGOowe3",
        "outputId": "dbf2ff66-4821-40a1-d599-b014c595932a"
      },
      "execution_count": null,
      "outputs": [
        {
          "output_type": "execute_result",
          "data": {
            "text/plain": [
              "(array([1.55e+03, 2.04e+02, 3.70e+01, 5.90e+01, 1.00e+00, 0.00e+00,\n",
              "        1.00e+00, 0.00e+00, 0.00e+00, 1.00e+00]),\n",
              " array([ 0.        ,  6.05240815, 12.10481631, 18.15722446, 24.20963262,\n",
              "        30.26204077, 36.31444892, 42.36685708, 48.41926523, 54.47167339,\n",
              "        60.52408154]),\n",
              " <a list of 10 Patch objects>)"
            ]
          },
          "metadata": {},
          "execution_count": 57
        },
        {
          "output_type": "display_data",
          "data": {
            "text/plain": [
              "<Figure size 432x288 with 1 Axes>"
            ],
            "image/png": "[encoded data removed]"
          },
          "metadata": {}
        }
      ]
    },
    {
      "cell_type": "markdown",
      "source": [
        "Ta nhận thấy tuy là có thời lượng di chuyển rất dài nhưng các chuyến đi này phàn lớn đều di chuyển dưới 10km. Đây là một bất thường khá lớn."
      ],
      "metadata": {
        "id": "4tXLK1aio9wk"
      }
    },
    {
      "cell_type": "code",
      "source": [
        "plt.hist(taxi_df[taxi_df['trip_duration'] >= 82600]['speed'])"
      ],
      "metadata": {
        "colab": {
          "base_uri": "https://localhost:8080/",
          "height": 370
        },
        "id": "XLhnrUFzpM84",
        "outputId": "a43aa8aa-0338-4bf2-b14e-9afcdd4eed38"
      },
      "execution_count": null,
      "outputs": [
        {
          "output_type": "execute_result",
          "data": {
            "text/plain": [
              "(array([1.55e+03, 2.06e+02, 3.60e+01, 5.80e+01, 1.00e+00, 0.00e+00,\n",
              "        1.00e+00, 0.00e+00, 0.00e+00, 1.00e+00]),\n",
              " array([0.        , 0.07073793, 0.14147586, 0.21221379, 0.28295173,\n",
              "        0.35368966, 0.42442759, 0.49516552, 0.56590345, 0.63664138,\n",
              "        0.70737931]),\n",
              " <a list of 10 Patch objects>)"
            ]
          },
          "metadata": {},
          "execution_count": 58
        },
        {
          "output_type": "display_data",
          "data": {
            "text/plain": [
              "<Figure size 432x288 with 1 Axes>"
            ],
            "image/png": "[encoded data removed]"
          },
          "metadata": {}
        }
      ]
    },
    {
      "cell_type": "markdown",
      "source": [
        "Ngoài ra các chuyến đi này còn có tốc độ rất chậm khi phần lớn chỉ dưới 0.1 m/s."
      ],
      "metadata": {
        "id": "PA9NuaCXpZFG"
      }
    },
    {
      "cell_type": "markdown",
      "source": [
        "**Quyết định: Thông qua các khảo sát phía trên, ta quyết định xóa các chuyến đi có thuộc tính trip_duration lớn hơn 82600 giây.**"
      ],
      "metadata": {
        "id": "OYfSUkxI8Ev8"
      }
    },
    {
      "cell_type": "markdown",
      "source": [
        "Ngoài các chuyến đi quá dài thì chúng ta cũng cần quan tâm đến các chuyến đi có độ dài quá ngắn. Dựa vào thông tin ở phần trước, chúng ta đã biết giá trị bé nhất của cột trip_duration là 1 giây nên vì vây ta sẽ tiến hành đếm số lượng các chuyến đi này."
      ],
      "metadata": {
        "id": "LcszperxBDNE"
      }
    },
    {
      "cell_type": "code",
      "source": [
        "taxi_df[taxi_df[\"trip_duration\"] == 1].shape[0]\n"
      ],
      "metadata": {
        "colab": {
          "base_uri": "https://localhost:8080/"
        },
        "id": "rc_rmQU4BEzn",
        "outputId": "113bd664-6bfc-4289-c122-1c3bdda41670"
      },
      "execution_count": null,
      "outputs": [
        {
          "output_type": "execute_result",
          "data": {
            "text/plain": [
              "33"
            ]
          },
          "metadata": {},
          "execution_count": 81
        }
      ]
    },
    {
      "cell_type": "markdown",
      "source": [
        "Mở rộng ra với các chuyến có độ dài bé hơn 120 giây:"
      ],
      "metadata": {
        "id": "0yedmZQKhgo8"
      }
    },
    {
      "cell_type": "code",
      "source": [
        "taxi_df[taxi_df[\"trip_duration\"] < 120].shape[0]"
      ],
      "metadata": {
        "colab": {
          "base_uri": "https://localhost:8080/"
        },
        "id": "THpsu7RyjSKz",
        "outputId": "cf2e55e4-6dfa-4361-d61e-c6d104a0b190"
      },
      "execution_count": null,
      "outputs": [
        {
          "output_type": "execute_result",
          "data": {
            "text/plain": [
              "27817"
            ]
          },
          "metadata": {},
          "execution_count": 82
        }
      ]
    },
    {
      "cell_type": "markdown",
      "source": [
        "Ta nhận thấy các chuyến xe dưới 2 phút có số lượng 27817 bản ghi, có thể các chuyến này là do khách hàng hủy chuyến hoặc khách hàng đổi ý khi xe chỉ mới vừa lăn bánh."
      ],
      "metadata": {
        "id": "aNPbJ2-7jaTP"
      }
    },
    {
      "cell_type": "markdown",
      "source": [
        "Tiếp theo, ta sẽ tiến hành xem thử khoảng cách di chuyển của các chuyến xe có trip_duration bé hơn 120 giây là bao nhiêu."
      ],
      "metadata": {
        "id": "72MWyWn_lTnJ"
      }
    },
    {
      "cell_type": "code",
      "source": [
        "plt.hist(taxi_df[taxi_df['trip_duration'] < 120]['distance'], range=(0, 2))\n",
        "plt.xlabel('distance (km)')\n",
        "plt.ylabel('count')"
      ],
      "metadata": {
        "colab": {
          "base_uri": "https://localhost:8080/",
          "height": 299
        },
        "id": "pDUmtqVhlj0_",
        "outputId": "35543632-5973-47cf-f492-cb9e47743e51"
      },
      "execution_count": null,
      "outputs": [
        {
          "output_type": "execute_result",
          "data": {
            "text/plain": [
              "Text(0, 0.5, 'count')"
            ]
          },
          "metadata": {},
          "execution_count": 84
        },
        {
          "output_type": "display_data",
          "data": {
            "text/plain": [
              "<Figure size 432x288 with 1 Axes>"
            ],
            "image/png": "[encoded data removed]"
          },
          "metadata": {}
        }
      ]
    },
    {
      "cell_type": "markdown",
      "source": [
        "Ta thấy phần lớn các chuyến đi dưới 120 giây đều có khoảng cách di chuyển bé hơn 1km, điều này là hợp lý bởi vì với một khoảng thời gian ngắn như thế thì sẽ không di chuyển được xa. Điều này cho thấy luận điểm khách hàng hủy chuyến hoặc đổi ý trong quá trình di chuyển là có cơ sở tin tưởng được."
      ],
      "metadata": {
        "id": "h1cvM8Inn43U"
      }
    },
    {
      "cell_type": "markdown",
      "source": [
        "Ta sẽ tiếp tục làm việc với các chuyến có quãng đường là 0km"
      ],
      "metadata": {
        "id": "G2vbmIiTohq6"
      }
    },
    {
      "cell_type": "code",
      "source": [
        "distance_zero = taxi_df[taxi_df['distance'] == 0]\n",
        "distance_zero"
      ],
      "metadata": {
        "colab": {
          "base_uri": "https://localhost:8080/",
          "height": 661
        },
        "id": "XNSdtP7KNleA",
        "outputId": "cef00f76-b598-41b9-d586-93e8c0bbb435"
      },
      "execution_count": null,
      "outputs": [
        {
          "output_type": "execute_result",
          "data": {
            "text/plain": [
              "                id vendor_id     pickup_datetime    dropoff_datetime  \\\n",
              "246      id3487442         2 2016-02-29 18:39:12 2016-02-29 18:42:59   \n",
              "291      id0924324         2 2016-05-10 18:07:52 2016-05-10 18:26:21   \n",
              "407      id1145809         2 2016-05-16 23:15:13 2016-05-16 23:31:00   \n",
              "702      id3499387         1 2016-01-25 19:45:12 2016-01-25 19:54:52   \n",
              "1620     id0753277         1 2016-01-27 22:29:31 2016-01-27 22:29:58   \n",
              "...            ...       ...                 ...                 ...   \n",
              "1456399  id0618137         2 2016-02-17 08:57:04 2016-02-17 09:18:28   \n",
              "1456627  id1048767         2 2016-02-06 22:01:40 2016-02-06 22:03:47   \n",
              "1456989  id2595295         2 2016-03-12 07:37:16 2016-03-12 07:46:42   \n",
              "1457114  id0051314         2 2016-04-09 20:34:21 2016-04-09 20:44:53   \n",
              "1457136  id1907784         1 2016-03-25 20:06:52 2016-03-25 20:09:48   \n",
              "\n",
              "         passenger_count  pickup_longitude  pickup_latitude  \\\n",
              "246                    1        -73.981819        40.768963   \n",
              "291                    2        -73.959068        40.775661   \n",
              "407                    6        -73.808487        40.687336   \n",
              "702                    1        -73.786720        40.647041   \n",
              "1620                   1        -74.209854        40.816853   \n",
              "...                  ...               ...              ...   \n",
              "1456399                1        -73.978859        40.756721   \n",
              "1456627                1        -73.963554        40.768517   \n",
              "1456989                1        -73.984848        40.728222   \n",
              "1457114                1        -73.965981        40.770988   \n",
              "1457136                1        -73.966705        40.769783   \n",
              "\n",
              "         dropoff_longitude  dropoff_latitude  store_and_fwd_flag  \\\n",
              "246             -73.981819         40.768963               False   \n",
              "291             -73.959068         40.775661               False   \n",
              "407             -73.808487         40.687336               False   \n",
              "702             -73.786720         40.647041               False   \n",
              "1620            -74.209854         40.816853               False   \n",
              "...                    ...               ...                 ...   \n",
              "1456399         -73.978859         40.756721               False   \n",
              "1456627         -73.963554         40.768517               False   \n",
              "1456989         -73.984848         40.728222               False   \n",
              "1457114         -73.965981         40.770988               False   \n",
              "1457136         -73.966705         40.769783               False   \n",
              "\n",
              "         trip_duration  distance  speed  \n",
              "246                227       0.0    0.0  \n",
              "291               1109       0.0    0.0  \n",
              "407                947       0.0    0.0  \n",
              "702                580       0.0    0.0  \n",
              "1620                27       0.0    0.0  \n",
              "...                ...       ...    ...  \n",
              "1456399           1284       0.0    0.0  \n",
              "1456627            127       0.0    0.0  \n",
              "1456989            566       0.0    0.0  \n",
              "1457114            632       0.0    0.0  \n",
              "1457136            176       0.0    0.0  \n",
              "\n",
              "[5897 rows x 13 columns]"
            ],
            "text/html": [
              "\n",
              "  <div id=\"df-0b37f202-e215-44af-a8fc-a16cc198321d\">\n",
              "    <div class=\"colab-df-container\">\n",
              "      <div>\n",
              "<style scoped>\n",
              "    .dataframe tbody tr th:only-of-type {\n",
              "        vertical-align: middle;\n",
              "    }\n",
              "\n",
              "    .dataframe tbody tr th {\n",
              "        vertical-align: top;\n",
              "    }\n",
              "\n",
              "    .dataframe thead th {\n",
              "        text-align: right;\n",
              "    }\n",
              "</style>\n",
              "<table border=\"1\" class=\"dataframe\">\n",
              "  <thead>\n",
              "    <tr style=\"text-align: right;\">\n",
              "      <th></th>\n",
              "      <th>id</th>\n",
              "      <th>vendor_id</th>\n",
              "      <th>pickup_datetime</th>\n",
              "      <th>dropoff_datetime</th>\n",
              "      <th>passenger_count</th>\n",
              "      <th>pickup_longitude</th>\n",
              "      <th>pickup_latitude</th>\n",
              "      <th>dropoff_longitude</th>\n",
              "      <th>dropoff_latitude</th>\n",
              "      <th>store_and_fwd_flag</th>\n",
              "      <th>trip_duration</th>\n",
              "      <th>distance</th>\n",
              "      <th>speed</th>\n",
              "    </tr>\n",
              "  </thead>\n",
              "  <tbody>\n",
              "    <tr>\n",
              "      <th>246</th>\n",
              "      <td>id3487442</td>\n",
              "      <td>2</td>\n",
              "      <td>2016-02-29 18:39:12</td>\n",
              "      <td>2016-02-29 18:42:59</td>\n",
              "      <td>1</td>\n",
              "      <td>-73.981819</td>\n",
              "      <td>40.768963</td>\n",
              "      <td>-73.981819</td>\n",
              "      <td>40.768963</td>\n",
              "      <td>False</td>\n",
              "      <td>227</td>\n",
              "      <td>0.0</td>\n",
              "      <td>0.0</td>\n",
              "    </tr>\n",
              "    <tr>\n",
              "      <th>291</th>\n",
              "      <td>id0924324</td>\n",
              "      <td>2</td>\n",
              "      <td>2016-05-10 18:07:52</td>\n",
              "      <td>2016-05-10 18:26:21</td>\n",
              "      <td>2</td>\n",
              "      <td>-73.959068</td>\n",
              "      <td>40.775661</td>\n",
              "      <td>-73.959068</td>\n",
              "      <td>40.775661</td>\n",
              "      <td>False</td>\n",
              "      <td>1109</td>\n",
              "      <td>0.0</td>\n",
              "      <td>0.0</td>\n",
              "    </tr>\n",
              "    <tr>\n",
              "      <th>407</th>\n",
              "      <td>id1145809</td>\n",
              "      <td>2</td>\n",
              "      <td>2016-05-16 23:15:13</td>\n",
              "      <td>2016-05-16 23:31:00</td>\n",
              "      <td>6</td>\n",
              "      <td>-73.808487</td>\n",
              "      <td>40.687336</td>\n",
              "      <td>-73.808487</td>\n",
              "      <td>40.687336</td>\n",
              "      <td>False</td>\n",
              "      <td>947</td>\n",
              "      <td>0.0</td>\n",
              "      <td>0.0</td>\n",
              "    </tr>\n",
              "    <tr>\n",
              "      <th>702</th>\n",
              "      <td>id3499387</td>\n",
              "      <td>1</td>\n",
              "      <td>2016-01-25 19:45:12</td>\n",
              "      <td>2016-01-25 19:54:52</td>\n",
              "      <td>1</td>\n",
              "      <td>-73.786720</td>\n",
              "      <td>40.647041</td>\n",
              "      <td>-73.786720</td>\n",
              "      <td>40.647041</td>\n",
              "      <td>False</td>\n",
              "      <td>580</td>\n",
              "      <td>0.0</td>\n",
              "      <td>0.0</td>\n",
              "    </tr>\n",
              "    <tr>\n",
              "      <th>1620</th>\n",
              "      <td>id0753277</td>\n",
              "      <td>1</td>\n",
              "      <td>2016-01-27 22:29:31</td>\n",
              "      <td>2016-01-27 22:29:58</td>\n",
              "      <td>1</td>\n",
              "      <td>-74.209854</td>\n",
              "      <td>40.816853</td>\n",
              "      <td>-74.209854</td>\n",
              "      <td>40.816853</td>\n",
              "      <td>False</td>\n",
              "      <td>27</td>\n",
              "      <td>0.0</td>\n",
              "      <td>0.0</td>\n",
              "    </tr>\n",
              "    <tr>\n",
              "      <th>...</th>\n",
              "      <td>...</td>\n",
              "      <td>...</td>\n",
              "      <td>...</td>\n",
              "      <td>...</td>\n",
              "      <td>...</td>\n",
              "      <td>...</td>\n",
              "      <td>...</td>\n",
              "      <td>...</td>\n",
              "      <td>...</td>\n",
              "      <td>...</td>\n",
              "      <td>...</td>\n",
              "      <td>...</td>\n",
              "      <td>...</td>\n",
              "    </tr>\n",
              "    <tr>\n",
              "      <th>1456399</th>\n",
              "      <td>id0618137</td>\n",
              "      <td>2</td>\n",
              "      <td>2016-02-17 08:57:04</td>\n",
              "      <td>2016-02-17 09:18:28</td>\n",
              "      <td>1</td>\n",
              "      <td>-73.978859</td>\n",
              "      <td>40.756721</td>\n",
              "      <td>-73.978859</td>\n",
              "      <td>40.756721</td>\n",
              "      <td>False</td>\n",
              "      <td>1284</td>\n",
              "      <td>0.0</td>\n",
              "      <td>0.0</td>\n",
              "    </tr>\n",
              "    <tr>\n",
              "      <th>1456627</th>\n",
              "      <td>id1048767</td>\n",
              "      <td>2</td>\n",
              "      <td>2016-02-06 22:01:40</td>\n",
              "      <td>2016-02-06 22:03:47</td>\n",
              "      <td>1</td>\n",
              "      <td>-73.963554</td>\n",
              "      <td>40.768517</td>\n",
              "      <td>-73.963554</td>\n",
              "      <td>40.768517</td>\n",
              "      <td>False</td>\n",
              "      <td>127</td>\n",
              "      <td>0.0</td>\n",
              "      <td>0.0</td>\n",
              "    </tr>\n",
              "    <tr>\n",
              "      <th>1456989</th>\n",
              "      <td>id2595295</td>\n",
              "      <td>2</td>\n",
              "      <td>2016-03-12 07:37:16</td>\n",
              "      <td>2016-03-12 07:46:42</td>\n",
              "      <td>1</td>\n",
              "      <td>-73.984848</td>\n",
              "      <td>40.728222</td>\n",
              "      <td>-73.984848</td>\n",
              "      <td>40.728222</td>\n",
              "      <td>False</td>\n",
              "      <td>566</td>\n",
              "      <td>0.0</td>\n",
              "      <td>0.0</td>\n",
              "    </tr>\n",
              "    <tr>\n",
              "      <th>1457114</th>\n",
              "      <td>id0051314</td>\n",
              "      <td>2</td>\n",
              "      <td>2016-04-09 20:34:21</td>\n",
              "      <td>2016-04-09 20:44:53</td>\n",
              "      <td>1</td>\n",
              "      <td>-73.965981</td>\n",
              "      <td>40.770988</td>\n",
              "      <td>-73.965981</td>\n",
              "      <td>40.770988</td>\n",
              "      <td>False</td>\n",
              "      <td>632</td>\n",
              "      <td>0.0</td>\n",
              "      <td>0.0</td>\n",
              "    </tr>\n",
              "    <tr>\n",
              "      <th>1457136</th>\n",
              "      <td>id1907784</td>\n",
              "      <td>1</td>\n",
              "      <td>2016-03-25 20:06:52</td>\n",
              "      <td>2016-03-25 20:09:48</td>\n",
              "      <td>1</td>\n",
              "      <td>-73.966705</td>\n",
              "      <td>40.769783</td>\n",
              "      <td>-73.966705</td>\n",
              "      <td>40.769783</td>\n",
              "      <td>False</td>\n",
              "      <td>176</td>\n",
              "      <td>0.0</td>\n",
              "      <td>0.0</td>\n",
              "    </tr>\n",
              "  </tbody>\n",
              "</table>\n",
              "<p>5897 rows × 13 columns</p>\n",
              "</div>\n",
              "      <button class=\"colab-df-convert\" onclick=\"convertToInteractive('df-0b37f202-e215-44af-a8fc-a16cc198321d')\"\n",
              "              title=\"Convert this dataframe to an interactive table.\"\n",
              "              style=\"display:none;\">\n",
              "        \n",
              "  <svg xmlns=\"http://www.w3.org/2000/svg\" height=\"24px\"viewBox=\"0 0 24 24\"\n",
              "       width=\"24px\">\n",
              "    <path d=\"M0 0h24v24H0V0z\" fill=\"none\"/>\n",
              "    <path d=\"M18.56 5.44l.94 2.06.94-2.06 2.06-.94-2.06-.94-.94-2.06-.94 2.06-2.06.94zm-11 1L8.5 8.5l.94-2.06 2.06-.94-2.06-.94L8.5 2.5l-.94 2.06-2.06.94zm10 10l.94 2.06.94-2.06 2.06-.94-2.06-.94-.94-2.06-.94 2.06-2.06.94z\"/><path d=\"M17.41 7.96l-1.37-1.37c-.4-.4-.92-.59-1.43-.59-.52 0-1.04.2-1.43.59L10.3 9.45l-7.72 7.72c-.78.78-.78 2.05 0 2.83L4 21.41c.39.39.9.59 1.41.59.51 0 1.02-.2 1.41-.59l7.78-7.78 2.81-2.81c.8-.78.8-2.07 0-2.86zM5.41 20L4 18.59l7.72-7.72 1.47 1.35L5.41 20z\"/>\n",
              "  </svg>\n",
              "      </button>\n",
              "      \n",
              "  <style>\n",
              "    .colab-df-container {\n",
              "      display:flex;\n",
              "      flex-wrap:wrap;\n",
              "      gap: 12px;\n",
              "    }\n",
              "\n",
              "    .colab-df-convert {\n",
              "      background-color: #E8F0FE;\n",
              "      border: none;\n",
              "      border-radius: 50%;\n",
              "      cursor: pointer;\n",
              "      display: none;\n",
              "      fill: #1967D2;\n",
              "      height: 32px;\n",
              "      padding: 0 0 0 0;\n",
              "      width: 32px;\n",
              "    }\n",
              "\n",
              "    .colab-df-convert:hover {\n",
              "      background-color: #E2EBFA;\n",
              "      box-shadow: 0px 1px 2px rgba(60, 64, 67, 0.3), 0px 1px 3px 1px rgba(60, 64, 67, 0.15);\n",
              "      fill: #174EA6;\n",
              "    }\n",
              "\n",
              "    [theme=dark] .colab-df-convert {\n",
              "      background-color: #3B4455;\n",
              "      fill: #D2E3FC;\n",
              "    }\n",
              "\n",
              "    [theme=dark] .colab-df-convert:hover {\n",
              "      background-color: #434B5C;\n",
              "      box-shadow: 0px 1px 3px 1px rgba(0, 0, 0, 0.15);\n",
              "      filter: drop-shadow(0px 1px 2px rgba(0, 0, 0, 0.3));\n",
              "      fill: #FFFFFF;\n",
              "    }\n",
              "  </style>\n",
              "\n",
              "      <script>\n",
              "        const buttonEl =\n",
              "          document.querySelector('#df-0b37f202-e215-44af-a8fc-a16cc198321d button.colab-df-convert');\n",
              "        buttonEl.style.display =\n",
              "          google.colab.kernel.accessAllowed ? 'block' : 'none';\n",
              "\n",
              "        async function convertToInteractive(key) {\n",
              "          const element = document.querySelector('#df-0b37f202-e215-44af-a8fc-a16cc198321d');\n",
              "          const dataTable =\n",
              "            await google.colab.kernel.invokeFunction('convertToInteractive',\n",
              "                                                     [key], {});\n",
              "          if (!dataTable) return;\n",
              "\n",
              "          const docLinkHtml = 'Like what you see? Visit the ' +\n",
              "            '<a target=\"_blank\" href=https://colab.research.google.com/notebooks/data_table.ipynb>data table notebook</a>'\n",
              "            + ' to learn more about interactive tables.';\n",
              "          element.innerHTML = '';\n",
              "          dataTable['output_type'] = 'display_data';\n",
              "          await google.colab.output.renderOutput(dataTable, element);\n",
              "          const docLink = document.createElement('div');\n",
              "          docLink.innerHTML = docLinkHtml;\n",
              "          element.appendChild(docLink);\n",
              "        }\n",
              "      </script>\n",
              "    </div>\n",
              "  </div>\n",
              "  "
            ]
          },
          "metadata": {},
          "execution_count": 75
        }
      ]
    },
    {
      "cell_type": "markdown",
      "source": [
        "Chúng ta có 5897 chuyến đi với khoảng cách là 0km"
      ],
      "metadata": {
        "id": "0UzKFrMwty9a"
      }
    },
    {
      "cell_type": "markdown",
      "source": [
        "Ta tiếp tục xem thời lượng di chuyển của các chuyến có độ dài quãng đường bằng 0."
      ],
      "metadata": {
        "id": "VhL6ZCuErs-V"
      }
    },
    {
      "cell_type": "code",
      "source": [
        "plt.hist(distance_zero['trip_duration'], range=(0, 3600))\n",
        "plt.xlabel('trip_duration (s)')\n",
        "plt.ylabel('count')"
      ],
      "metadata": {
        "colab": {
          "base_uri": "https://localhost:8080/",
          "height": 299
        },
        "id": "Bsr-5Wj9r4HT",
        "outputId": "ec5b1971-c7b7-47c1-8f83-ce7d6cdd8603"
      },
      "execution_count": null,
      "outputs": [
        {
          "output_type": "execute_result",
          "data": {
            "text/plain": [
              "Text(0, 0.5, 'count')"
            ]
          },
          "metadata": {},
          "execution_count": 77
        },
        {
          "output_type": "display_data",
          "data": {
            "text/plain": [
              "<Figure size 432x288 with 1 Axes>"
            ],
            "image/png": "[encoded data removed]"
          },
          "metadata": {}
        }
      ]
    },
    {
      "cell_type": "code",
      "source": [
        "distance_zero[distance_zero['trip_duration'] < 120].shape[0]"
      ],
      "metadata": {
        "colab": {
          "base_uri": "https://localhost:8080/"
        },
        "id": "l8MrQCkquSNA",
        "outputId": "8d27c895-3d66-43d5-b378-d771a9017766"
      },
      "execution_count": null,
      "outputs": [
        {
          "output_type": "execute_result",
          "data": {
            "text/plain": [
              "1935"
            ]
          },
          "metadata": {},
          "execution_count": 80
        }
      ]
    },
    {
      "cell_type": "markdown",
      "source": [
        "Như vậy là chúng ta có 1935 chuyến đi không di chuyển mà có trip_duration dưới 120 giây. Các chuyến còn lại có trip_duration trải dài từ 120 giây đến 3600 giây tương ứng với gần 1 giờ."
      ],
      "metadata": {
        "id": "I08eqYe-uojO"
      }
    },
    {
      "cell_type": "markdown",
      "source": [
        "**Quyết định: Ta sẽ xóa các chuyến xe không di chuyển mà có trip_duration lớn hơn 120 giây và giữ lại các chuyến xe có trip_duration bé hơn 120 giây vì có thể các chuyến này bị hủy bởi khách hàng khi xe chưa di chuyển.**"
      ],
      "metadata": {
        "id": "zaKBkXoTv2V7"
      }
    },
    {
      "cell_type": "markdown",
      "source": [
        "## Tiền xử lý dữ liệu (tiếp theo)"
      ],
      "metadata": {
        "id": "IIfkfijxwarz"
      }
    },
    {
      "cell_type": "code",
      "source": [],
      "metadata": {
        "id": "inn8iAmQwdhu"
      },
      "execution_count": null,
      "outputs": []
    }
  ]
}